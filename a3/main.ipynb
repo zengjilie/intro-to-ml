{
 "cells": [
  {
   "cell_type": "markdown",
   "id": "c6973f30",
   "metadata": {},
   "source": [
    "# Assignment 3"
   ]
  },
  {
   "cell_type": "markdown",
   "id": "b0fb2e66",
   "metadata": {},
   "source": [
    "## [Task 1](#task-1)\n",
    "## [Task 2](#task-2)"
   ]
  },
  {
   "cell_type": "code",
   "execution_count": 2,
   "id": "8822cc5b",
   "metadata": {},
   "outputs": [],
   "source": [
    "# import python packages\n",
    "import numpy as np\n",
    "import pandas as pd\n",
    "import matplotlib.pyplot as plt \n",
    "from sklearn import svm\n",
    "from sklearn.model_selection import train_test_split"
   ]
  },
  {
   "cell_type": "markdown",
   "id": "4baa9049",
   "metadata": {},
   "source": [
    "## <a id='task-1'>Task 1</a>"
   ]
  },
  {
   "cell_type": "code",
   "execution_count": null,
   "id": "7eaf54fe",
   "metadata": {},
   "outputs": [],
   "source": []
  }
 ],
 "metadata": {
  "kernelspec": {
   "display_name": "Python [conda env:ml-env]",
   "language": "python",
   "name": "conda-env-ml-env-py"
  },
  "language_info": {
   "codemirror_mode": {
    "name": "ipython",
    "version": 3
   },
   "file_extension": ".py",
   "mimetype": "text/x-python",
   "name": "python",
   "nbconvert_exporter": "python",
   "pygments_lexer": "ipython3",
   "version": "3.11.0"
  }
 },
 "nbformat": 4,
 "nbformat_minor": 5
}
