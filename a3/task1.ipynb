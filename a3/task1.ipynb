{
 "cells": [
  {
   "cell_type": "markdown",
   "id": "c6973f30",
   "metadata": {},
   "source": [
    "# Assignment 3"
   ]
  },
  {
   "cell_type": "markdown",
   "id": "a0eaeb9d",
   "metadata": {},
   "source": [
    "## Task 1"
   ]
  },
  {
   "cell_type": "code",
   "execution_count": 9,
   "id": "8822cc5b",
   "metadata": {},
   "outputs": [],
   "source": [
    "# import python packages\n",
    "import numpy as np\n",
    "import pandas as pd\n",
    "import matplotlib.pyplot as plt \n",
    "import seaborn as sns"
   ]
  },
  {
   "cell_type": "markdown",
   "id": "df0d88fa",
   "metadata": {},
   "source": [
    "### Load data"
   ]
  },
  {
   "cell_type": "code",
   "execution_count": 27,
   "id": "7eaf54fe",
   "metadata": {},
   "outputs": [
    {
     "data": {
      "text/html": [
       "<div>\n",
       "<style scoped>\n",
       "    .dataframe tbody tr th:only-of-type {\n",
       "        vertical-align: middle;\n",
       "    }\n",
       "\n",
       "    .dataframe tbody tr th {\n",
       "        vertical-align: top;\n",
       "    }\n",
       "\n",
       "    .dataframe thead th {\n",
       "        text-align: right;\n",
       "    }\n",
       "</style>\n",
       "<table border=\"1\" class=\"dataframe\">\n",
       "  <thead>\n",
       "    <tr style=\"text-align: right;\">\n",
       "      <th></th>\n",
       "      <th>id</th>\n",
       "      <th>diagnosis</th>\n",
       "      <th>radius_mean</th>\n",
       "      <th>texture_mean</th>\n",
       "      <th>perimeter_mean</th>\n",
       "      <th>area_mean</th>\n",
       "      <th>smoothness_mean</th>\n",
       "      <th>compactness_mean</th>\n",
       "      <th>concavity_mean</th>\n",
       "      <th>concave points_mean</th>\n",
       "      <th>...</th>\n",
       "      <th>texture_worst</th>\n",
       "      <th>perimeter_worst</th>\n",
       "      <th>area_worst</th>\n",
       "      <th>smoothness_worst</th>\n",
       "      <th>compactness_worst</th>\n",
       "      <th>concavity_worst</th>\n",
       "      <th>concave points_worst</th>\n",
       "      <th>symmetry_worst</th>\n",
       "      <th>fractal_dimension_worst</th>\n",
       "      <th>Unnamed: 32</th>\n",
       "    </tr>\n",
       "  </thead>\n",
       "  <tbody>\n",
       "    <tr>\n",
       "      <th>0</th>\n",
       "      <td>842302</td>\n",
       "      <td>M</td>\n",
       "      <td>17.99</td>\n",
       "      <td>10.38</td>\n",
       "      <td>122.80</td>\n",
       "      <td>1001.0</td>\n",
       "      <td>0.11840</td>\n",
       "      <td>0.27760</td>\n",
       "      <td>0.3001</td>\n",
       "      <td>0.14710</td>\n",
       "      <td>...</td>\n",
       "      <td>17.33</td>\n",
       "      <td>184.60</td>\n",
       "      <td>2019.0</td>\n",
       "      <td>0.1622</td>\n",
       "      <td>0.6656</td>\n",
       "      <td>0.7119</td>\n",
       "      <td>0.2654</td>\n",
       "      <td>0.4601</td>\n",
       "      <td>0.11890</td>\n",
       "      <td>NaN</td>\n",
       "    </tr>\n",
       "    <tr>\n",
       "      <th>1</th>\n",
       "      <td>842517</td>\n",
       "      <td>M</td>\n",
       "      <td>20.57</td>\n",
       "      <td>17.77</td>\n",
       "      <td>132.90</td>\n",
       "      <td>1326.0</td>\n",
       "      <td>0.08474</td>\n",
       "      <td>0.07864</td>\n",
       "      <td>0.0869</td>\n",
       "      <td>0.07017</td>\n",
       "      <td>...</td>\n",
       "      <td>23.41</td>\n",
       "      <td>158.80</td>\n",
       "      <td>1956.0</td>\n",
       "      <td>0.1238</td>\n",
       "      <td>0.1866</td>\n",
       "      <td>0.2416</td>\n",
       "      <td>0.1860</td>\n",
       "      <td>0.2750</td>\n",
       "      <td>0.08902</td>\n",
       "      <td>NaN</td>\n",
       "    </tr>\n",
       "    <tr>\n",
       "      <th>2</th>\n",
       "      <td>84300903</td>\n",
       "      <td>M</td>\n",
       "      <td>19.69</td>\n",
       "      <td>21.25</td>\n",
       "      <td>130.00</td>\n",
       "      <td>1203.0</td>\n",
       "      <td>0.10960</td>\n",
       "      <td>0.15990</td>\n",
       "      <td>0.1974</td>\n",
       "      <td>0.12790</td>\n",
       "      <td>...</td>\n",
       "      <td>25.53</td>\n",
       "      <td>152.50</td>\n",
       "      <td>1709.0</td>\n",
       "      <td>0.1444</td>\n",
       "      <td>0.4245</td>\n",
       "      <td>0.4504</td>\n",
       "      <td>0.2430</td>\n",
       "      <td>0.3613</td>\n",
       "      <td>0.08758</td>\n",
       "      <td>NaN</td>\n",
       "    </tr>\n",
       "    <tr>\n",
       "      <th>3</th>\n",
       "      <td>84348301</td>\n",
       "      <td>M</td>\n",
       "      <td>11.42</td>\n",
       "      <td>20.38</td>\n",
       "      <td>77.58</td>\n",
       "      <td>386.1</td>\n",
       "      <td>0.14250</td>\n",
       "      <td>0.28390</td>\n",
       "      <td>0.2414</td>\n",
       "      <td>0.10520</td>\n",
       "      <td>...</td>\n",
       "      <td>26.50</td>\n",
       "      <td>98.87</td>\n",
       "      <td>567.7</td>\n",
       "      <td>0.2098</td>\n",
       "      <td>0.8663</td>\n",
       "      <td>0.6869</td>\n",
       "      <td>0.2575</td>\n",
       "      <td>0.6638</td>\n",
       "      <td>0.17300</td>\n",
       "      <td>NaN</td>\n",
       "    </tr>\n",
       "    <tr>\n",
       "      <th>4</th>\n",
       "      <td>84358402</td>\n",
       "      <td>M</td>\n",
       "      <td>20.29</td>\n",
       "      <td>14.34</td>\n",
       "      <td>135.10</td>\n",
       "      <td>1297.0</td>\n",
       "      <td>0.10030</td>\n",
       "      <td>0.13280</td>\n",
       "      <td>0.1980</td>\n",
       "      <td>0.10430</td>\n",
       "      <td>...</td>\n",
       "      <td>16.67</td>\n",
       "      <td>152.20</td>\n",
       "      <td>1575.0</td>\n",
       "      <td>0.1374</td>\n",
       "      <td>0.2050</td>\n",
       "      <td>0.4000</td>\n",
       "      <td>0.1625</td>\n",
       "      <td>0.2364</td>\n",
       "      <td>0.07678</td>\n",
       "      <td>NaN</td>\n",
       "    </tr>\n",
       "  </tbody>\n",
       "</table>\n",
       "<p>5 rows × 33 columns</p>\n",
       "</div>"
      ],
      "text/plain": [
       "         id diagnosis  radius_mean  texture_mean  perimeter_mean  area_mean  \\\n",
       "0    842302         M        17.99         10.38          122.80     1001.0   \n",
       "1    842517         M        20.57         17.77          132.90     1326.0   \n",
       "2  84300903         M        19.69         21.25          130.00     1203.0   \n",
       "3  84348301         M        11.42         20.38           77.58      386.1   \n",
       "4  84358402         M        20.29         14.34          135.10     1297.0   \n",
       "\n",
       "   smoothness_mean  compactness_mean  concavity_mean  concave points_mean  \\\n",
       "0          0.11840           0.27760          0.3001              0.14710   \n",
       "1          0.08474           0.07864          0.0869              0.07017   \n",
       "2          0.10960           0.15990          0.1974              0.12790   \n",
       "3          0.14250           0.28390          0.2414              0.10520   \n",
       "4          0.10030           0.13280          0.1980              0.10430   \n",
       "\n",
       "   ...  texture_worst  perimeter_worst  area_worst  smoothness_worst  \\\n",
       "0  ...          17.33           184.60      2019.0            0.1622   \n",
       "1  ...          23.41           158.80      1956.0            0.1238   \n",
       "2  ...          25.53           152.50      1709.0            0.1444   \n",
       "3  ...          26.50            98.87       567.7            0.2098   \n",
       "4  ...          16.67           152.20      1575.0            0.1374   \n",
       "\n",
       "   compactness_worst  concavity_worst  concave points_worst  symmetry_worst  \\\n",
       "0             0.6656           0.7119                0.2654          0.4601   \n",
       "1             0.1866           0.2416                0.1860          0.2750   \n",
       "2             0.4245           0.4504                0.2430          0.3613   \n",
       "3             0.8663           0.6869                0.2575          0.6638   \n",
       "4             0.2050           0.4000                0.1625          0.2364   \n",
       "\n",
       "   fractal_dimension_worst  Unnamed: 32  \n",
       "0                  0.11890          NaN  \n",
       "1                  0.08902          NaN  \n",
       "2                  0.08758          NaN  \n",
       "3                  0.17300          NaN  \n",
       "4                  0.07678          NaN  \n",
       "\n",
       "[5 rows x 33 columns]"
      ]
     },
     "execution_count": 27,
     "metadata": {},
     "output_type": "execute_result"
    }
   ],
   "source": [
    "# Load Data\n",
    "data = pd.read_csv('./task1data.csv')\n",
    "data.head()"
   ]
  },
  {
   "cell_type": "markdown",
   "id": "45f36e92",
   "metadata": {},
   "source": [
    "### Data info"
   ]
  },
  {
   "cell_type": "code",
   "execution_count": 28,
   "id": "5685f87c",
   "metadata": {},
   "outputs": [
    {
     "name": "stdout",
     "output_type": "stream",
     "text": [
      "<class 'pandas.core.frame.DataFrame'>\n",
      "RangeIndex: 569 entries, 0 to 568\n",
      "Data columns (total 33 columns):\n",
      " #   Column                   Non-Null Count  Dtype  \n",
      "---  ------                   --------------  -----  \n",
      " 0   id                       569 non-null    int64  \n",
      " 1   diagnosis                569 non-null    object \n",
      " 2   radius_mean              569 non-null    float64\n",
      " 3   texture_mean             569 non-null    float64\n",
      " 4   perimeter_mean           569 non-null    float64\n",
      " 5   area_mean                569 non-null    float64\n",
      " 6   smoothness_mean          569 non-null    float64\n",
      " 7   compactness_mean         569 non-null    float64\n",
      " 8   concavity_mean           569 non-null    float64\n",
      " 9   concave points_mean      569 non-null    float64\n",
      " 10  symmetry_mean            569 non-null    float64\n",
      " 11  fractal_dimension_mean   569 non-null    float64\n",
      " 12  radius_se                569 non-null    float64\n",
      " 13  texture_se               569 non-null    float64\n",
      " 14  perimeter_se             569 non-null    float64\n",
      " 15  area_se                  569 non-null    float64\n",
      " 16  smoothness_se            569 non-null    float64\n",
      " 17  compactness_se           569 non-null    float64\n",
      " 18  concavity_se             569 non-null    float64\n",
      " 19  concave points_se        569 non-null    float64\n",
      " 20  symmetry_se              569 non-null    float64\n",
      " 21  fractal_dimension_se     569 non-null    float64\n",
      " 22  radius_worst             569 non-null    float64\n",
      " 23  texture_worst            569 non-null    float64\n",
      " 24  perimeter_worst          569 non-null    float64\n",
      " 25  area_worst               569 non-null    float64\n",
      " 26  smoothness_worst         569 non-null    float64\n",
      " 27  compactness_worst        569 non-null    float64\n",
      " 28  concavity_worst          569 non-null    float64\n",
      " 29  concave points_worst     569 non-null    float64\n",
      " 30  symmetry_worst           569 non-null    float64\n",
      " 31  fractal_dimension_worst  569 non-null    float64\n",
      " 32  Unnamed: 32              0 non-null      float64\n",
      "dtypes: float64(31), int64(1), object(1)\n",
      "memory usage: 146.8+ KB\n"
     ]
    }
   ],
   "source": [
    "data.info()"
   ]
  },
  {
   "cell_type": "markdown",
   "id": "d321ad34",
   "metadata": {},
   "source": [
    "### Data cleaning"
   ]
  },
  {
   "cell_type": "code",
   "execution_count": 29,
   "id": "8cd0c27a",
   "metadata": {},
   "outputs": [
    {
     "data": {
      "text/plain": [
       "id                           0\n",
       "diagnosis                    0\n",
       "radius_mean                  0\n",
       "texture_mean                 0\n",
       "perimeter_mean               0\n",
       "area_mean                    0\n",
       "smoothness_mean              0\n",
       "compactness_mean             0\n",
       "concavity_mean               0\n",
       "concave points_mean          0\n",
       "symmetry_mean                0\n",
       "fractal_dimension_mean       0\n",
       "radius_se                    0\n",
       "texture_se                   0\n",
       "perimeter_se                 0\n",
       "area_se                      0\n",
       "smoothness_se                0\n",
       "compactness_se               0\n",
       "concavity_se                 0\n",
       "concave points_se            0\n",
       "symmetry_se                  0\n",
       "fractal_dimension_se         0\n",
       "radius_worst                 0\n",
       "texture_worst                0\n",
       "perimeter_worst              0\n",
       "area_worst                   0\n",
       "smoothness_worst             0\n",
       "compactness_worst            0\n",
       "concavity_worst              0\n",
       "concave points_worst         0\n",
       "symmetry_worst               0\n",
       "fractal_dimension_worst      0\n",
       "Unnamed: 32                569\n",
       "dtype: int64"
      ]
     },
     "execution_count": 29,
     "metadata": {},
     "output_type": "execute_result"
    }
   ],
   "source": [
    "# Data cleaning, check if data has NaN value\n",
    "data.isna().sum()"
   ]
  },
  {
   "cell_type": "markdown",
   "id": "3e1daff8",
   "metadata": {},
   "source": [
    "Data is already pretty clean"
   ]
  },
  {
   "cell_type": "markdown",
   "id": "6fa451a7",
   "metadata": {},
   "source": [
    "### Feature selection"
   ]
  },
  {
   "cell_type": "code",
   "execution_count": 30,
   "id": "d98f8a20",
   "metadata": {},
   "outputs": [],
   "source": [
    "from sklearn.feature_selection import SelectKBest,chi2"
   ]
  },
  {
   "cell_type": "code",
   "execution_count": 31,
   "id": "8718c07f",
   "metadata": {},
   "outputs": [],
   "source": [
    "# Explore feature importance\n",
    "X = data.drop(columns=['id','diagnosis','Unnamed: 32']) # independent variable\n",
    "y = data[['diagnosis']] # dependent variable"
   ]
  },
  {
   "cell_type": "code",
   "execution_count": 32,
   "id": "1aae7b48",
   "metadata": {},
   "outputs": [
    {
     "data": {
      "text/plain": [
       "((569, 30), (569, 1))"
      ]
     },
     "execution_count": 32,
     "metadata": {},
     "output_type": "execute_result"
    }
   ],
   "source": [
    "X.shape, y.shape"
   ]
  },
  {
   "cell_type": "markdown",
   "id": "7e216ce9",
   "metadata": {},
   "source": [
    "Before feature selection, we need to first turn categorical value into numerical value for dataframe `y`, use 1 to denote 'M', 0 to denote 'B'"
   ]
  },
  {
   "cell_type": "code",
   "execution_count": 33,
   "id": "483ec21c",
   "metadata": {},
   "outputs": [
    {
     "data": {
      "text/html": [
       "<div>\n",
       "<style scoped>\n",
       "    .dataframe tbody tr th:only-of-type {\n",
       "        vertical-align: middle;\n",
       "    }\n",
       "\n",
       "    .dataframe tbody tr th {\n",
       "        vertical-align: top;\n",
       "    }\n",
       "\n",
       "    .dataframe thead th {\n",
       "        text-align: right;\n",
       "    }\n",
       "</style>\n",
       "<table border=\"1\" class=\"dataframe\">\n",
       "  <thead>\n",
       "    <tr style=\"text-align: right;\">\n",
       "      <th></th>\n",
       "      <th>diagnosis</th>\n",
       "    </tr>\n",
       "  </thead>\n",
       "  <tbody>\n",
       "    <tr>\n",
       "      <th>0</th>\n",
       "      <td>1</td>\n",
       "    </tr>\n",
       "    <tr>\n",
       "      <th>1</th>\n",
       "      <td>1</td>\n",
       "    </tr>\n",
       "    <tr>\n",
       "      <th>2</th>\n",
       "      <td>1</td>\n",
       "    </tr>\n",
       "    <tr>\n",
       "      <th>3</th>\n",
       "      <td>1</td>\n",
       "    </tr>\n",
       "    <tr>\n",
       "      <th>4</th>\n",
       "      <td>1</td>\n",
       "    </tr>\n",
       "    <tr>\n",
       "      <th>...</th>\n",
       "      <td>...</td>\n",
       "    </tr>\n",
       "    <tr>\n",
       "      <th>564</th>\n",
       "      <td>1</td>\n",
       "    </tr>\n",
       "    <tr>\n",
       "      <th>565</th>\n",
       "      <td>1</td>\n",
       "    </tr>\n",
       "    <tr>\n",
       "      <th>566</th>\n",
       "      <td>1</td>\n",
       "    </tr>\n",
       "    <tr>\n",
       "      <th>567</th>\n",
       "      <td>1</td>\n",
       "    </tr>\n",
       "    <tr>\n",
       "      <th>568</th>\n",
       "      <td>0</td>\n",
       "    </tr>\n",
       "  </tbody>\n",
       "</table>\n",
       "<p>569 rows × 1 columns</p>\n",
       "</div>"
      ],
      "text/plain": [
       "     diagnosis\n",
       "0            1\n",
       "1            1\n",
       "2            1\n",
       "3            1\n",
       "4            1\n",
       "..         ...\n",
       "564          1\n",
       "565          1\n",
       "566          1\n",
       "567          1\n",
       "568          0\n",
       "\n",
       "[569 rows x 1 columns]"
      ]
     },
     "execution_count": 33,
     "metadata": {},
     "output_type": "execute_result"
    }
   ],
   "source": [
    "y = y.replace(['M','B'],[1,0])\n",
    "y"
   ]
  },
  {
   "cell_type": "code",
   "execution_count": 34,
   "id": "e3b19896",
   "metadata": {},
   "outputs": [],
   "source": [
    "# Use selectKbest and chi2 to get all feature score\n",
    "selector = SelectKBest(chi2,k=30).fit(X, y)\n",
    "X_new = selector.transform(X)\n"
   ]
  },
  {
   "cell_type": "code",
   "execution_count": 35,
   "id": "3b4afcb8",
   "metadata": {},
   "outputs": [
    {
     "data": {
      "text/html": [
       "<div>\n",
       "<style scoped>\n",
       "    .dataframe tbody tr th:only-of-type {\n",
       "        vertical-align: middle;\n",
       "    }\n",
       "\n",
       "    .dataframe tbody tr th {\n",
       "        vertical-align: top;\n",
       "    }\n",
       "\n",
       "    .dataframe thead th {\n",
       "        text-align: right;\n",
       "    }\n",
       "</style>\n",
       "<table border=\"1\" class=\"dataframe\">\n",
       "  <thead>\n",
       "    <tr style=\"text-align: right;\">\n",
       "      <th></th>\n",
       "      <th>feature_name</th>\n",
       "      <th>score</th>\n",
       "    </tr>\n",
       "  </thead>\n",
       "  <tbody>\n",
       "    <tr>\n",
       "      <th>0</th>\n",
       "      <td>area_worst</td>\n",
       "      <td>112598.431564</td>\n",
       "    </tr>\n",
       "    <tr>\n",
       "      <th>1</th>\n",
       "      <td>area_mean</td>\n",
       "      <td>53991.655924</td>\n",
       "    </tr>\n",
       "    <tr>\n",
       "      <th>2</th>\n",
       "      <td>area_se</td>\n",
       "      <td>8758.504705</td>\n",
       "    </tr>\n",
       "    <tr>\n",
       "      <th>3</th>\n",
       "      <td>perimeter_worst</td>\n",
       "      <td>3665.035416</td>\n",
       "    </tr>\n",
       "    <tr>\n",
       "      <th>4</th>\n",
       "      <td>perimeter_mean</td>\n",
       "      <td>2011.102864</td>\n",
       "    </tr>\n",
       "    <tr>\n",
       "      <th>5</th>\n",
       "      <td>radius_worst</td>\n",
       "      <td>491.689157</td>\n",
       "    </tr>\n",
       "    <tr>\n",
       "      <th>6</th>\n",
       "      <td>radius_mean</td>\n",
       "      <td>266.104917</td>\n",
       "    </tr>\n",
       "    <tr>\n",
       "      <th>7</th>\n",
       "      <td>perimeter_se</td>\n",
       "      <td>250.571896</td>\n",
       "    </tr>\n",
       "    <tr>\n",
       "      <th>8</th>\n",
       "      <td>texture_worst</td>\n",
       "      <td>174.449400</td>\n",
       "    </tr>\n",
       "    <tr>\n",
       "      <th>9</th>\n",
       "      <td>texture_mean</td>\n",
       "      <td>93.897508</td>\n",
       "    </tr>\n",
       "    <tr>\n",
       "      <th>10</th>\n",
       "      <td>concavity_worst</td>\n",
       "      <td>39.516915</td>\n",
       "    </tr>\n",
       "    <tr>\n",
       "      <th>11</th>\n",
       "      <td>radius_se</td>\n",
       "      <td>34.675247</td>\n",
       "    </tr>\n",
       "    <tr>\n",
       "      <th>12</th>\n",
       "      <td>concavity_mean</td>\n",
       "      <td>19.712354</td>\n",
       "    </tr>\n",
       "    <tr>\n",
       "      <th>13</th>\n",
       "      <td>compactness_worst</td>\n",
       "      <td>19.314922</td>\n",
       "    </tr>\n",
       "    <tr>\n",
       "      <th>14</th>\n",
       "      <td>concave points_worst</td>\n",
       "      <td>13.485419</td>\n",
       "    </tr>\n",
       "    <tr>\n",
       "      <th>15</th>\n",
       "      <td>concave points_mean</td>\n",
       "      <td>10.544035</td>\n",
       "    </tr>\n",
       "    <tr>\n",
       "      <th>16</th>\n",
       "      <td>compactness_mean</td>\n",
       "      <td>5.403075</td>\n",
       "    </tr>\n",
       "    <tr>\n",
       "      <th>17</th>\n",
       "      <td>symmetry_worst</td>\n",
       "      <td>1.298861</td>\n",
       "    </tr>\n",
       "    <tr>\n",
       "      <th>18</th>\n",
       "      <td>concavity_se</td>\n",
       "      <td>1.044718</td>\n",
       "    </tr>\n",
       "    <tr>\n",
       "      <th>19</th>\n",
       "      <td>compactness_se</td>\n",
       "      <td>0.613785</td>\n",
       "    </tr>\n",
       "    <tr>\n",
       "      <th>20</th>\n",
       "      <td>smoothness_worst</td>\n",
       "      <td>0.397366</td>\n",
       "    </tr>\n",
       "    <tr>\n",
       "      <th>21</th>\n",
       "      <td>concave points_se</td>\n",
       "      <td>0.305232</td>\n",
       "    </tr>\n",
       "    <tr>\n",
       "      <th>22</th>\n",
       "      <td>symmetry_mean</td>\n",
       "      <td>0.257380</td>\n",
       "    </tr>\n",
       "    <tr>\n",
       "      <th>23</th>\n",
       "      <td>fractal_dimension_worst</td>\n",
       "      <td>0.231522</td>\n",
       "    </tr>\n",
       "    <tr>\n",
       "      <th>24</th>\n",
       "      <td>smoothness_mean</td>\n",
       "      <td>0.149899</td>\n",
       "    </tr>\n",
       "    <tr>\n",
       "      <th>25</th>\n",
       "      <td>texture_se</td>\n",
       "      <td>0.009794</td>\n",
       "    </tr>\n",
       "    <tr>\n",
       "      <th>26</th>\n",
       "      <td>fractal_dimension_se</td>\n",
       "      <td>0.006371</td>\n",
       "    </tr>\n",
       "    <tr>\n",
       "      <th>27</th>\n",
       "      <td>smoothness_se</td>\n",
       "      <td>0.003266</td>\n",
       "    </tr>\n",
       "    <tr>\n",
       "      <th>28</th>\n",
       "      <td>symmetry_se</td>\n",
       "      <td>0.000080</td>\n",
       "    </tr>\n",
       "    <tr>\n",
       "      <th>29</th>\n",
       "      <td>fractal_dimension_mean</td>\n",
       "      <td>0.000074</td>\n",
       "    </tr>\n",
       "  </tbody>\n",
       "</table>\n",
       "</div>"
      ],
      "text/plain": [
       "               feature_name          score\n",
       "0                area_worst  112598.431564\n",
       "1                 area_mean   53991.655924\n",
       "2                   area_se    8758.504705\n",
       "3           perimeter_worst    3665.035416\n",
       "4            perimeter_mean    2011.102864\n",
       "5              radius_worst     491.689157\n",
       "6               radius_mean     266.104917\n",
       "7              perimeter_se     250.571896\n",
       "8             texture_worst     174.449400\n",
       "9              texture_mean      93.897508\n",
       "10          concavity_worst      39.516915\n",
       "11                radius_se      34.675247\n",
       "12           concavity_mean      19.712354\n",
       "13        compactness_worst      19.314922\n",
       "14     concave points_worst      13.485419\n",
       "15      concave points_mean      10.544035\n",
       "16         compactness_mean       5.403075\n",
       "17           symmetry_worst       1.298861\n",
       "18             concavity_se       1.044718\n",
       "19           compactness_se       0.613785\n",
       "20         smoothness_worst       0.397366\n",
       "21        concave points_se       0.305232\n",
       "22            symmetry_mean       0.257380\n",
       "23  fractal_dimension_worst       0.231522\n",
       "24          smoothness_mean       0.149899\n",
       "25               texture_se       0.009794\n",
       "26     fractal_dimension_se       0.006371\n",
       "27            smoothness_se       0.003266\n",
       "28              symmetry_se       0.000080\n",
       "29   fractal_dimension_mean       0.000074"
      ]
     },
     "execution_count": 35,
     "metadata": {},
     "output_type": "execute_result"
    }
   ],
   "source": [
    "# feature scores\n",
    "df_feature = []\n",
    "for i in range (30):\n",
    "    df_feature.append([selector.feature_names_in_[i], selector.scores_[i]])\n",
    "df_feature = pd.DataFrame(data=df_feature,\n",
    "                          columns=['feature_name','score'])\n",
    "df_feature = df_feature.sort_values(by=['score'], ascending=False).reset_index(drop=True)\n",
    "df_feature"
   ]
  },
  {
   "cell_type": "markdown",
   "id": "0c60e168",
   "metadata": {},
   "source": [
    "#### Fits model on 3 differernt feature sets"
   ]
  },
  {
   "cell_type": "code",
   "execution_count": 36,
   "id": "a7a69cfb",
   "metadata": {},
   "outputs": [
    {
     "data": {
      "text/html": [
       "<div>\n",
       "<style scoped>\n",
       "    .dataframe tbody tr th:only-of-type {\n",
       "        vertical-align: middle;\n",
       "    }\n",
       "\n",
       "    .dataframe tbody tr th {\n",
       "        vertical-align: top;\n",
       "    }\n",
       "\n",
       "    .dataframe thead th {\n",
       "        text-align: right;\n",
       "    }\n",
       "</style>\n",
       "<table border=\"1\" class=\"dataframe\">\n",
       "  <thead>\n",
       "    <tr style=\"text-align: right;\">\n",
       "      <th></th>\n",
       "      <th>feature_name</th>\n",
       "      <th>score</th>\n",
       "    </tr>\n",
       "  </thead>\n",
       "  <tbody>\n",
       "    <tr>\n",
       "      <th>0</th>\n",
       "      <td>area_worst</td>\n",
       "      <td>112598.431564</td>\n",
       "    </tr>\n",
       "    <tr>\n",
       "      <th>1</th>\n",
       "      <td>area_mean</td>\n",
       "      <td>53991.655924</td>\n",
       "    </tr>\n",
       "    <tr>\n",
       "      <th>2</th>\n",
       "      <td>area_se</td>\n",
       "      <td>8758.504705</td>\n",
       "    </tr>\n",
       "    <tr>\n",
       "      <th>3</th>\n",
       "      <td>perimeter_worst</td>\n",
       "      <td>3665.035416</td>\n",
       "    </tr>\n",
       "    <tr>\n",
       "      <th>4</th>\n",
       "      <td>perimeter_mean</td>\n",
       "      <td>2011.102864</td>\n",
       "    </tr>\n",
       "    <tr>\n",
       "      <th>5</th>\n",
       "      <td>radius_worst</td>\n",
       "      <td>491.689157</td>\n",
       "    </tr>\n",
       "    <tr>\n",
       "      <th>6</th>\n",
       "      <td>radius_mean</td>\n",
       "      <td>266.104917</td>\n",
       "    </tr>\n",
       "    <tr>\n",
       "      <th>7</th>\n",
       "      <td>perimeter_se</td>\n",
       "      <td>250.571896</td>\n",
       "    </tr>\n",
       "    <tr>\n",
       "      <th>8</th>\n",
       "      <td>texture_worst</td>\n",
       "      <td>174.449400</td>\n",
       "    </tr>\n",
       "    <tr>\n",
       "      <th>9</th>\n",
       "      <td>texture_mean</td>\n",
       "      <td>93.897508</td>\n",
       "    </tr>\n",
       "  </tbody>\n",
       "</table>\n",
       "</div>"
      ],
      "text/plain": [
       "      feature_name          score\n",
       "0       area_worst  112598.431564\n",
       "1        area_mean   53991.655924\n",
       "2          area_se    8758.504705\n",
       "3  perimeter_worst    3665.035416\n",
       "4   perimeter_mean    2011.102864\n",
       "5     radius_worst     491.689157\n",
       "6      radius_mean     266.104917\n",
       "7     perimeter_se     250.571896\n",
       "8    texture_worst     174.449400\n",
       "9     texture_mean      93.897508"
      ]
     },
     "execution_count": 36,
     "metadata": {},
     "output_type": "execute_result"
    }
   ],
   "source": [
    "# Pick 3 sets of features, from top to bottom\n",
    "df_feature_a = df_feature[:10]\n",
    "df_feature_a"
   ]
  },
  {
   "cell_type": "code",
   "execution_count": 43,
   "id": "31586c8f",
   "metadata": {},
   "outputs": [
    {
     "data": {
      "text/plain": [
       "<AxesSubplot: xlabel='feature_name', ylabel='score'>"
      ]
     },
     "execution_count": 43,
     "metadata": {},
     "output_type": "execute_result"
    },
    {
     "data": {
      "image/png": "[encoded data removed]",
      "text/plain": [
       "<Figure size 1170x827 with 1 Axes>"
      ]
     },
     "metadata": {},
     "output_type": "display_data"
    }
   ],
   "source": [
    "sns.set(rc={'figure.figsize':(11.7,8.27)})\n",
    "sns.barplot(data=df_feature_a, x=\"feature_name\", y=\"score\")"
   ]
  },
  {
   "cell_type": "code",
   "execution_count": 38,
   "id": "eae488f9",
   "metadata": {},
   "outputs": [
    {
     "data": {
      "text/html": [
       "<div>\n",
       "<style scoped>\n",
       "    .dataframe tbody tr th:only-of-type {\n",
       "        vertical-align: middle;\n",
       "    }\n",
       "\n",
       "    .dataframe tbody tr th {\n",
       "        vertical-align: top;\n",
       "    }\n",
       "\n",
       "    .dataframe thead th {\n",
       "        text-align: right;\n",
       "    }\n",
       "</style>\n",
       "<table border=\"1\" class=\"dataframe\">\n",
       "  <thead>\n",
       "    <tr style=\"text-align: right;\">\n",
       "      <th></th>\n",
       "      <th>feature_name</th>\n",
       "      <th>score</th>\n",
       "    </tr>\n",
       "  </thead>\n",
       "  <tbody>\n",
       "    <tr>\n",
       "      <th>10</th>\n",
       "      <td>concavity_worst</td>\n",
       "      <td>39.516915</td>\n",
       "    </tr>\n",
       "    <tr>\n",
       "      <th>11</th>\n",
       "      <td>radius_se</td>\n",
       "      <td>34.675247</td>\n",
       "    </tr>\n",
       "    <tr>\n",
       "      <th>12</th>\n",
       "      <td>concavity_mean</td>\n",
       "      <td>19.712354</td>\n",
       "    </tr>\n",
       "    <tr>\n",
       "      <th>13</th>\n",
       "      <td>compactness_worst</td>\n",
       "      <td>19.314922</td>\n",
       "    </tr>\n",
       "    <tr>\n",
       "      <th>14</th>\n",
       "      <td>concave points_worst</td>\n",
       "      <td>13.485419</td>\n",
       "    </tr>\n",
       "    <tr>\n",
       "      <th>15</th>\n",
       "      <td>concave points_mean</td>\n",
       "      <td>10.544035</td>\n",
       "    </tr>\n",
       "    <tr>\n",
       "      <th>16</th>\n",
       "      <td>compactness_mean</td>\n",
       "      <td>5.403075</td>\n",
       "    </tr>\n",
       "    <tr>\n",
       "      <th>17</th>\n",
       "      <td>symmetry_worst</td>\n",
       "      <td>1.298861</td>\n",
       "    </tr>\n",
       "    <tr>\n",
       "      <th>18</th>\n",
       "      <td>concavity_se</td>\n",
       "      <td>1.044718</td>\n",
       "    </tr>\n",
       "    <tr>\n",
       "      <th>19</th>\n",
       "      <td>compactness_se</td>\n",
       "      <td>0.613785</td>\n",
       "    </tr>\n",
       "  </tbody>\n",
       "</table>\n",
       "</div>"
      ],
      "text/plain": [
       "            feature_name      score\n",
       "10       concavity_worst  39.516915\n",
       "11             radius_se  34.675247\n",
       "12        concavity_mean  19.712354\n",
       "13     compactness_worst  19.314922\n",
       "14  concave points_worst  13.485419\n",
       "15   concave points_mean  10.544035\n",
       "16      compactness_mean   5.403075\n",
       "17        symmetry_worst   1.298861\n",
       "18          concavity_se   1.044718\n",
       "19        compactness_se   0.613785"
      ]
     },
     "execution_count": 38,
     "metadata": {},
     "output_type": "execute_result"
    }
   ],
   "source": [
    "df_feature_b = df_feature[10:20]\n",
    "df_feature_b"
   ]
  },
  {
   "cell_type": "code",
   "execution_count": 44,
   "id": "c6c90c54",
   "metadata": {},
   "outputs": [
    {
     "data": {
      "text/plain": [
       "<AxesSubplot: xlabel='feature_name', ylabel='score'>"
      ]
     },
     "execution_count": 44,
     "metadata": {},
     "output_type": "execute_result"
    },
    {
     "data": {
      "image/png": "[encoded data removed]",
      "text/plain": [
       "<Figure size 1170x827 with 1 Axes>"
      ]
     },
     "metadata": {},
     "output_type": "display_data"
    }
   ],
   "source": [
    "sns.set(rc={'figure.figsize':(11.7,8.27)})\n",
    "sns.barplot(data=df_feature_b, x=\"feature_name\", y=\"score\")"
   ]
  },
  {
   "cell_type": "code",
   "execution_count": 46,
   "id": "c1ab62b6",
   "metadata": {},
   "outputs": [
    {
     "data": {
      "text/html": [
       "<div>\n",
       "<style scoped>\n",
       "    .dataframe tbody tr th:only-of-type {\n",
       "        vertical-align: middle;\n",
       "    }\n",
       "\n",
       "    .dataframe tbody tr th {\n",
       "        vertical-align: top;\n",
       "    }\n",
       "\n",
       "    .dataframe thead th {\n",
       "        text-align: right;\n",
       "    }\n",
       "</style>\n",
       "<table border=\"1\" class=\"dataframe\">\n",
       "  <thead>\n",
       "    <tr style=\"text-align: right;\">\n",
       "      <th></th>\n",
       "      <th>feature_name</th>\n",
       "      <th>score</th>\n",
       "    </tr>\n",
       "  </thead>\n",
       "  <tbody>\n",
       "    <tr>\n",
       "      <th>20</th>\n",
       "      <td>smoothness_worst</td>\n",
       "      <td>0.397366</td>\n",
       "    </tr>\n",
       "    <tr>\n",
       "      <th>21</th>\n",
       "      <td>concave points_se</td>\n",
       "      <td>0.305232</td>\n",
       "    </tr>\n",
       "    <tr>\n",
       "      <th>22</th>\n",
       "      <td>symmetry_mean</td>\n",
       "      <td>0.257380</td>\n",
       "    </tr>\n",
       "    <tr>\n",
       "      <th>23</th>\n",
       "      <td>fractal_dimension_worst</td>\n",
       "      <td>0.231522</td>\n",
       "    </tr>\n",
       "    <tr>\n",
       "      <th>24</th>\n",
       "      <td>smoothness_mean</td>\n",
       "      <td>0.149899</td>\n",
       "    </tr>\n",
       "    <tr>\n",
       "      <th>25</th>\n",
       "      <td>texture_se</td>\n",
       "      <td>0.009794</td>\n",
       "    </tr>\n",
       "    <tr>\n",
       "      <th>26</th>\n",
       "      <td>fractal_dimension_se</td>\n",
       "      <td>0.006371</td>\n",
       "    </tr>\n",
       "    <tr>\n",
       "      <th>27</th>\n",
       "      <td>smoothness_se</td>\n",
       "      <td>0.003266</td>\n",
       "    </tr>\n",
       "    <tr>\n",
       "      <th>28</th>\n",
       "      <td>symmetry_se</td>\n",
       "      <td>0.000080</td>\n",
       "    </tr>\n",
       "    <tr>\n",
       "      <th>29</th>\n",
       "      <td>fractal_dimension_mean</td>\n",
       "      <td>0.000074</td>\n",
       "    </tr>\n",
       "  </tbody>\n",
       "</table>\n",
       "</div>"
      ],
      "text/plain": [
       "               feature_name     score\n",
       "20         smoothness_worst  0.397366\n",
       "21        concave points_se  0.305232\n",
       "22            symmetry_mean  0.257380\n",
       "23  fractal_dimension_worst  0.231522\n",
       "24          smoothness_mean  0.149899\n",
       "25               texture_se  0.009794\n",
       "26     fractal_dimension_se  0.006371\n",
       "27            smoothness_se  0.003266\n",
       "28              symmetry_se  0.000080\n",
       "29   fractal_dimension_mean  0.000074"
      ]
     },
     "execution_count": 46,
     "metadata": {},
     "output_type": "execute_result"
    }
   ],
   "source": [
    "df_feature_c = df_feature[20:31]\n",
    "df_feature_c"
   ]
  },
  {
   "cell_type": "code",
   "execution_count": 47,
   "id": "ab9a376b",
   "metadata": {},
   "outputs": [
    {
     "data": {
      "text/plain": [
       "<AxesSubplot: xlabel='feature_name', ylabel='score'>"
      ]
     },
     "execution_count": 47,
     "metadata": {},
     "output_type": "execute_result"
    },
    {
     "data": {
      "image/png": "[encoded data removed]",
      "text/plain": [
       "<Figure size 1170x827 with 1 Axes>"
      ]
     },
     "metadata": {},
     "output_type": "display_data"
    }
   ],
   "source": [
    "sns.set(rc={'figure.figsize':(11.7,8.27)})\n",
    "sns.barplot(data=df_feature_c, x=\"feature_name\", y=\"score\")"
   ]
  },
  {
   "cell_type": "markdown",
   "id": "290d63c2",
   "metadata": {},
   "source": [
    "### Tran/test/validation Split"
   ]
  },
  {
   "cell_type": "markdown",
   "id": "fa51d207",
   "metadata": {},
   "source": [
    "Use the features in `df_feature_a`, which is the top 10 most important features"
   ]
  },
  {
   "cell_type": "code",
   "execution_count": 73,
   "id": "97af9e92",
   "metadata": {},
   "outputs": [],
   "source": [
    "from sklearn.model_selection import train_test_split"
   ]
  },
  {
   "cell_type": "code",
   "execution_count": 74,
   "id": "a772d524",
   "metadata": {},
   "outputs": [],
   "source": [
    "feature_list_a = list(df_feature_a['feature_name'])\n",
    "X_a = X[feature_list_a] "
   ]
  },
  {
   "cell_type": "code",
   "execution_count": 75,
   "id": "2337f802",
   "metadata": {},
   "outputs": [
    {
     "data": {
      "text/plain": [
       "(569, 10)"
      ]
     },
     "execution_count": 75,
     "metadata": {},
     "output_type": "execute_result"
    }
   ],
   "source": [
    "X_a.shape"
   ]
  },
  {
   "cell_type": "code",
   "execution_count": 76,
   "id": "1e331819",
   "metadata": {},
   "outputs": [
    {
     "data": {
      "text/plain": [
       "(569, 1)"
      ]
     },
     "execution_count": 76,
     "metadata": {},
     "output_type": "execute_result"
    }
   ],
   "source": [
    "y.shape"
   ]
  },
  {
   "cell_type": "code",
   "execution_count": 77,
   "id": "83205792",
   "metadata": {},
   "outputs": [],
   "source": [
    "# Split data in 7:3 ratio into train, test sets\n",
    "X_train_a, X_test_a, y_train_a, y_test_a = train_test_split(X_a, y, test_size=0.3, random_state=42)"
   ]
  },
  {
   "cell_type": "code",
   "execution_count": 78,
   "id": "4711e9c1",
   "metadata": {},
   "outputs": [
    {
     "name": "stdout",
     "output_type": "stream",
     "text": [
      "Shape of test set: (171, 10)\n",
      "Shape of training set: (398, 10)\n"
     ]
    }
   ],
   "source": [
    "print(\"Shape of test set:\", X_test_a.shape)\n",
    "print(\"Shape of training set:\", X_train_a.shape)"
   ]
  },
  {
   "cell_type": "code",
   "execution_count": 79,
   "id": "6f258532",
   "metadata": {},
   "outputs": [
    {
     "data": {
      "text/html": [
       "<div>\n",
       "<style scoped>\n",
       "    .dataframe tbody tr th:only-of-type {\n",
       "        vertical-align: middle;\n",
       "    }\n",
       "\n",
       "    .dataframe tbody tr th {\n",
       "        vertical-align: top;\n",
       "    }\n",
       "\n",
       "    .dataframe thead th {\n",
       "        text-align: right;\n",
       "    }\n",
       "</style>\n",
       "<table border=\"1\" class=\"dataframe\">\n",
       "  <thead>\n",
       "    <tr style=\"text-align: right;\">\n",
       "      <th></th>\n",
       "      <th>area_worst</th>\n",
       "      <th>area_mean</th>\n",
       "      <th>area_se</th>\n",
       "      <th>perimeter_worst</th>\n",
       "      <th>perimeter_mean</th>\n",
       "      <th>radius_worst</th>\n",
       "      <th>radius_mean</th>\n",
       "      <th>perimeter_se</th>\n",
       "      <th>texture_worst</th>\n",
       "      <th>texture_mean</th>\n",
       "    </tr>\n",
       "  </thead>\n",
       "  <tbody>\n",
       "    <tr>\n",
       "      <th>149</th>\n",
       "      <td>725.9</td>\n",
       "      <td>585.0</td>\n",
       "      <td>21.47</td>\n",
       "      <td>97.19</td>\n",
       "      <td>88.12</td>\n",
       "      <td>15.34</td>\n",
       "      <td>13.74</td>\n",
       "      <td>1.573</td>\n",
       "      <td>22.46</td>\n",
       "      <td>17.91</td>\n",
       "    </tr>\n",
       "    <tr>\n",
       "      <th>124</th>\n",
       "      <td>632.1</td>\n",
       "      <td>553.5</td>\n",
       "      <td>14.66</td>\n",
       "      <td>91.99</td>\n",
       "      <td>86.10</td>\n",
       "      <td>14.26</td>\n",
       "      <td>13.37</td>\n",
       "      <td>1.223</td>\n",
       "      <td>22.75</td>\n",
       "      <td>16.39</td>\n",
       "    </tr>\n",
       "    <tr>\n",
       "      <th>421</th>\n",
       "      <td>809.2</td>\n",
       "      <td>656.1</td>\n",
       "      <td>49.45</td>\n",
       "      <td>114.10</td>\n",
       "      <td>98.22</td>\n",
       "      <td>16.46</td>\n",
       "      <td>14.69</td>\n",
       "      <td>4.795</td>\n",
       "      <td>18.34</td>\n",
       "      <td>13.98</td>\n",
       "    </tr>\n",
       "    <tr>\n",
       "      <th>195</th>\n",
       "      <td>600.6</td>\n",
       "      <td>516.4</td>\n",
       "      <td>15.75</td>\n",
       "      <td>90.81</td>\n",
       "      <td>82.53</td>\n",
       "      <td>13.88</td>\n",
       "      <td>12.91</td>\n",
       "      <td>1.493</td>\n",
       "      <td>22.00</td>\n",
       "      <td>16.33</td>\n",
       "    </tr>\n",
       "    <tr>\n",
       "      <th>545</th>\n",
       "      <td>729.8</td>\n",
       "      <td>573.2</td>\n",
       "      <td>31.24</td>\n",
       "      <td>97.58</td>\n",
       "      <td>87.19</td>\n",
       "      <td>15.35</td>\n",
       "      <td>13.62</td>\n",
       "      <td>2.066</td>\n",
       "      <td>29.09</td>\n",
       "      <td>23.23</td>\n",
       "    </tr>\n",
       "  </tbody>\n",
       "</table>\n",
       "</div>"
      ],
      "text/plain": [
       "     area_worst  area_mean  area_se  perimeter_worst  perimeter_mean  \\\n",
       "149       725.9      585.0    21.47            97.19           88.12   \n",
       "124       632.1      553.5    14.66            91.99           86.10   \n",
       "421       809.2      656.1    49.45           114.10           98.22   \n",
       "195       600.6      516.4    15.75            90.81           82.53   \n",
       "545       729.8      573.2    31.24            97.58           87.19   \n",
       "\n",
       "     radius_worst  radius_mean  perimeter_se  texture_worst  texture_mean  \n",
       "149         15.34        13.74         1.573          22.46         17.91  \n",
       "124         14.26        13.37         1.223          22.75         16.39  \n",
       "421         16.46        14.69         4.795          18.34         13.98  \n",
       "195         13.88        12.91         1.493          22.00         16.33  \n",
       "545         15.35        13.62         2.066          29.09         23.23  "
      ]
     },
     "execution_count": 79,
     "metadata": {},
     "output_type": "execute_result"
    }
   ],
   "source": [
    "X_train_a.head()"
   ]
  },
  {
   "cell_type": "code",
   "execution_count": 80,
   "id": "b7cad260",
   "metadata": {},
   "outputs": [
    {
     "data": {
      "text/html": [
       "<div>\n",
       "<style scoped>\n",
       "    .dataframe tbody tr th:only-of-type {\n",
       "        vertical-align: middle;\n",
       "    }\n",
       "\n",
       "    .dataframe tbody tr th {\n",
       "        vertical-align: top;\n",
       "    }\n",
       "\n",
       "    .dataframe thead th {\n",
       "        text-align: right;\n",
       "    }\n",
       "</style>\n",
       "<table border=\"1\" class=\"dataframe\">\n",
       "  <thead>\n",
       "    <tr style=\"text-align: right;\">\n",
       "      <th></th>\n",
       "      <th>diagnosis</th>\n",
       "    </tr>\n",
       "  </thead>\n",
       "  <tbody>\n",
       "    <tr>\n",
       "      <th>149</th>\n",
       "      <td>0</td>\n",
       "    </tr>\n",
       "    <tr>\n",
       "      <th>124</th>\n",
       "      <td>0</td>\n",
       "    </tr>\n",
       "    <tr>\n",
       "      <th>421</th>\n",
       "      <td>0</td>\n",
       "    </tr>\n",
       "    <tr>\n",
       "      <th>195</th>\n",
       "      <td>0</td>\n",
       "    </tr>\n",
       "    <tr>\n",
       "      <th>545</th>\n",
       "      <td>0</td>\n",
       "    </tr>\n",
       "  </tbody>\n",
       "</table>\n",
       "</div>"
      ],
      "text/plain": [
       "     diagnosis\n",
       "149          0\n",
       "124          0\n",
       "421          0\n",
       "195          0\n",
       "545          0"
      ]
     },
     "execution_count": 80,
     "metadata": {},
     "output_type": "execute_result"
    }
   ],
   "source": [
    "y_train_a.head()"
   ]
  },
  {
   "cell_type": "markdown",
   "id": "f440073a",
   "metadata": {},
   "source": [
    "Further divide the test set 50:50"
   ]
  },
  {
   "cell_type": "code",
   "execution_count": 81,
   "id": "19757838",
   "metadata": {},
   "outputs": [],
   "source": [
    "import math"
   ]
  },
  {
   "cell_type": "code",
   "execution_count": 82,
   "id": "acc2360e",
   "metadata": {},
   "outputs": [],
   "source": [
    "X_test_a_new = X_test_a.iloc[:math.floor(len(X_test_a)/2)]\n",
    "y_test_a_new = y_test_a.iloc[:math.floor(len(y_test_a)/2)]\n",
    "X_vali_a_new = X_test_a.iloc[math.floor(len(X_test_a)/2):]\n",
    "y_vali_a_new = y_test_a.iloc[math.floor(len(y_test_a)/2):]"
   ]
  },
  {
   "cell_type": "code",
   "execution_count": 83,
   "id": "ec40744c",
   "metadata": {},
   "outputs": [
    {
     "data": {
      "text/plain": [
       "((85, 10), (85, 1))"
      ]
     },
     "execution_count": 83,
     "metadata": {},
     "output_type": "execute_result"
    }
   ],
   "source": [
    "X_test_a_new.shape, y_test_a_new.shape"
   ]
  },
  {
   "cell_type": "code",
   "execution_count": 84,
   "id": "0477c15c",
   "metadata": {},
   "outputs": [
    {
     "data": {
      "text/plain": [
       "((86, 10), (86, 1))"
      ]
     },
     "execution_count": 84,
     "metadata": {},
     "output_type": "execute_result"
    }
   ],
   "source": [
    "X_vali_a_new.shape, y_vali_a_new.shape"
   ]
  },
  {
   "cell_type": "code",
   "execution_count": 85,
   "id": "a1304f06",
   "metadata": {},
   "outputs": [
    {
     "data": {
      "text/html": [
       "<div>\n",
       "<style scoped>\n",
       "    .dataframe tbody tr th:only-of-type {\n",
       "        vertical-align: middle;\n",
       "    }\n",
       "\n",
       "    .dataframe tbody tr th {\n",
       "        vertical-align: top;\n",
       "    }\n",
       "\n",
       "    .dataframe thead th {\n",
       "        text-align: right;\n",
       "    }\n",
       "</style>\n",
       "<table border=\"1\" class=\"dataframe\">\n",
       "  <thead>\n",
       "    <tr style=\"text-align: right;\">\n",
       "      <th></th>\n",
       "      <th>area_worst</th>\n",
       "      <th>area_mean</th>\n",
       "      <th>area_se</th>\n",
       "      <th>perimeter_worst</th>\n",
       "      <th>perimeter_mean</th>\n",
       "      <th>radius_worst</th>\n",
       "      <th>radius_mean</th>\n",
       "      <th>perimeter_se</th>\n",
       "      <th>texture_worst</th>\n",
       "      <th>texture_mean</th>\n",
       "    </tr>\n",
       "  </thead>\n",
       "  <tbody>\n",
       "    <tr>\n",
       "      <th>204</th>\n",
       "      <td>677.9</td>\n",
       "      <td>481.9</td>\n",
       "      <td>30.29</td>\n",
       "      <td>96.05</td>\n",
       "      <td>81.09</td>\n",
       "      <td>14.97</td>\n",
       "      <td>12.47</td>\n",
       "      <td>2.497</td>\n",
       "      <td>24.64</td>\n",
       "      <td>18.60</td>\n",
       "    </tr>\n",
       "    <tr>\n",
       "      <th>70</th>\n",
       "      <td>1866.0</td>\n",
       "      <td>1130.0</td>\n",
       "      <td>96.05</td>\n",
       "      <td>165.90</td>\n",
       "      <td>123.60</td>\n",
       "      <td>24.86</td>\n",
       "      <td>18.94</td>\n",
       "      <td>5.486</td>\n",
       "      <td>26.58</td>\n",
       "      <td>21.31</td>\n",
       "    </tr>\n",
       "    <tr>\n",
       "      <th>131</th>\n",
       "      <td>1156.0</td>\n",
       "      <td>748.9</td>\n",
       "      <td>48.31</td>\n",
       "      <td>124.90</td>\n",
       "      <td>101.70</td>\n",
       "      <td>19.26</td>\n",
       "      <td>15.46</td>\n",
       "      <td>3.094</td>\n",
       "      <td>26.00</td>\n",
       "      <td>19.48</td>\n",
       "    </tr>\n",
       "    <tr>\n",
       "      <th>431</th>\n",
       "      <td>515.8</td>\n",
       "      <td>467.8</td>\n",
       "      <td>15.43</td>\n",
       "      <td>89.61</td>\n",
       "      <td>81.47</td>\n",
       "      <td>12.88</td>\n",
       "      <td>12.40</td>\n",
       "      <td>2.204</td>\n",
       "      <td>22.91</td>\n",
       "      <td>17.68</td>\n",
       "    </tr>\n",
       "    <tr>\n",
       "      <th>540</th>\n",
       "      <td>457.8</td>\n",
       "      <td>402.9</td>\n",
       "      <td>20.86</td>\n",
       "      <td>78.78</td>\n",
       "      <td>74.65</td>\n",
       "      <td>12.26</td>\n",
       "      <td>11.54</td>\n",
       "      <td>1.628</td>\n",
       "      <td>19.68</td>\n",
       "      <td>14.44</td>\n",
       "    </tr>\n",
       "  </tbody>\n",
       "</table>\n",
       "</div>"
      ],
      "text/plain": [
       "     area_worst  area_mean  area_se  perimeter_worst  perimeter_mean  \\\n",
       "204       677.9      481.9    30.29            96.05           81.09   \n",
       "70       1866.0     1130.0    96.05           165.90          123.60   \n",
       "131      1156.0      748.9    48.31           124.90          101.70   \n",
       "431       515.8      467.8    15.43            89.61           81.47   \n",
       "540       457.8      402.9    20.86            78.78           74.65   \n",
       "\n",
       "     radius_worst  radius_mean  perimeter_se  texture_worst  texture_mean  \n",
       "204         14.97        12.47         2.497          24.64         18.60  \n",
       "70          24.86        18.94         5.486          26.58         21.31  \n",
       "131         19.26        15.46         3.094          26.00         19.48  \n",
       "431         12.88        12.40         2.204          22.91         17.68  \n",
       "540         12.26        11.54         1.628          19.68         14.44  "
      ]
     },
     "execution_count": 85,
     "metadata": {},
     "output_type": "execute_result"
    }
   ],
   "source": [
    "X_test_a_new.head()"
   ]
  },
  {
   "cell_type": "code",
   "execution_count": 86,
   "id": "ceaf4ec5",
   "metadata": {},
   "outputs": [
    {
     "data": {
      "text/html": [
       "<div>\n",
       "<style scoped>\n",
       "    .dataframe tbody tr th:only-of-type {\n",
       "        vertical-align: middle;\n",
       "    }\n",
       "\n",
       "    .dataframe tbody tr th {\n",
       "        vertical-align: top;\n",
       "    }\n",
       "\n",
       "    .dataframe thead th {\n",
       "        text-align: right;\n",
       "    }\n",
       "</style>\n",
       "<table border=\"1\" class=\"dataframe\">\n",
       "  <thead>\n",
       "    <tr style=\"text-align: right;\">\n",
       "      <th></th>\n",
       "      <th>area_worst</th>\n",
       "      <th>area_mean</th>\n",
       "      <th>area_se</th>\n",
       "      <th>perimeter_worst</th>\n",
       "      <th>perimeter_mean</th>\n",
       "      <th>radius_worst</th>\n",
       "      <th>radius_mean</th>\n",
       "      <th>perimeter_se</th>\n",
       "      <th>texture_worst</th>\n",
       "      <th>texture_mean</th>\n",
       "    </tr>\n",
       "  </thead>\n",
       "  <tbody>\n",
       "    <tr>\n",
       "      <th>257</th>\n",
       "      <td>928.8</td>\n",
       "      <td>713.3</td>\n",
       "      <td>59.460</td>\n",
       "      <td>119.80</td>\n",
       "      <td>103.20</td>\n",
       "      <td>17.73</td>\n",
       "      <td>15.32</td>\n",
       "      <td>4.061</td>\n",
       "      <td>22.66</td>\n",
       "      <td>17.27</td>\n",
       "    </tr>\n",
       "    <tr>\n",
       "      <th>9</th>\n",
       "      <td>711.4</td>\n",
       "      <td>475.9</td>\n",
       "      <td>23.940</td>\n",
       "      <td>97.65</td>\n",
       "      <td>83.97</td>\n",
       "      <td>15.09</td>\n",
       "      <td>12.46</td>\n",
       "      <td>2.039</td>\n",
       "      <td>40.68</td>\n",
       "      <td>24.04</td>\n",
       "    </tr>\n",
       "    <tr>\n",
       "      <th>468</th>\n",
       "      <td>1437.0</td>\n",
       "      <td>980.5</td>\n",
       "      <td>104.900</td>\n",
       "      <td>143.60</td>\n",
       "      <td>119.00</td>\n",
       "      <td>21.57</td>\n",
       "      <td>17.60</td>\n",
       "      <td>5.801</td>\n",
       "      <td>28.87</td>\n",
       "      <td>23.33</td>\n",
       "    </tr>\n",
       "    <tr>\n",
       "      <th>382</th>\n",
       "      <td>488.4</td>\n",
       "      <td>447.8</td>\n",
       "      <td>9.549</td>\n",
       "      <td>87.36</td>\n",
       "      <td>78.75</td>\n",
       "      <td>12.57</td>\n",
       "      <td>12.05</td>\n",
       "      <td>1.778</td>\n",
       "      <td>28.71</td>\n",
       "      <td>22.72</td>\n",
       "    </tr>\n",
       "    <tr>\n",
       "      <th>322</th>\n",
       "      <td>599.5</td>\n",
       "      <td>504.8</td>\n",
       "      <td>16.570</td>\n",
       "      <td>92.80</td>\n",
       "      <td>82.82</td>\n",
       "      <td>14.04</td>\n",
       "      <td>12.86</td>\n",
       "      <td>1.614</td>\n",
       "      <td>21.08</td>\n",
       "      <td>13.32</td>\n",
       "    </tr>\n",
       "  </tbody>\n",
       "</table>\n",
       "</div>"
      ],
      "text/plain": [
       "     area_worst  area_mean  area_se  perimeter_worst  perimeter_mean  \\\n",
       "257       928.8      713.3   59.460           119.80          103.20   \n",
       "9         711.4      475.9   23.940            97.65           83.97   \n",
       "468      1437.0      980.5  104.900           143.60          119.00   \n",
       "382       488.4      447.8    9.549            87.36           78.75   \n",
       "322       599.5      504.8   16.570            92.80           82.82   \n",
       "\n",
       "     radius_worst  radius_mean  perimeter_se  texture_worst  texture_mean  \n",
       "257         17.73        15.32         4.061          22.66         17.27  \n",
       "9           15.09        12.46         2.039          40.68         24.04  \n",
       "468         21.57        17.60         5.801          28.87         23.33  \n",
       "382         12.57        12.05         1.778          28.71         22.72  \n",
       "322         14.04        12.86         1.614          21.08         13.32  "
      ]
     },
     "execution_count": 86,
     "metadata": {},
     "output_type": "execute_result"
    }
   ],
   "source": [
    "X_vali_a_new.head()"
   ]
  },
  {
   "cell_type": "markdown",
   "id": "a8c24d6d",
   "metadata": {},
   "source": [
    "### Build logistic regression model"
   ]
  },
  {
   "cell_type": "code",
   "execution_count": 87,
   "id": "432e16c6",
   "metadata": {},
   "outputs": [],
   "source": [
    "from sklearn.linear_model import LogisticRegression"
   ]
  },
  {
   "cell_type": "code",
   "execution_count": 88,
   "id": "e216c9d0",
   "metadata": {},
   "outputs": [
    {
     "name": "stderr",
     "output_type": "stream",
     "text": [
      "/opt/homebrew/Caskroom/miniforge/base/envs/ml-env/lib/python3.11/site-packages/sklearn/utils/validation.py:1143: DataConversionWarning: A column-vector y was passed when a 1d array was expected. Please change the shape of y to (n_samples, ), for example using ravel().\n",
      "  y = column_or_1d(y, warn=True)\n",
      "/opt/homebrew/Caskroom/miniforge/base/envs/ml-env/lib/python3.11/site-packages/sklearn/linear_model/_logistic.py:458: ConvergenceWarning: lbfgs failed to converge (status=1):\n",
      "STOP: TOTAL NO. of ITERATIONS REACHED LIMIT.\n",
      "\n",
      "Increase the number of iterations (max_iter) or scale the data as shown in:\n",
      "    https://scikit-learn.org/stable/modules/preprocessing.html\n",
      "Please also refer to the documentation for alternative solver options:\n",
      "    https://scikit-learn.org/stable/modules/linear_model.html#logistic-regression\n",
      "  n_iter_i = _check_optimize_result(\n"
     ]
    },
    {
     "data": {
      "text/plain": [
       "0.9647058823529412"
      ]
     },
     "execution_count": 88,
     "metadata": {},
     "output_type": "execute_result"
    }
   ],
   "source": [
    "lrm = LogisticRegression().fit(X_train_a, y_train_a)\n",
    "# lrm.score(X_vali_a_new, y_vali_a_new)\n",
    "lrm.score(X_test_a_new, y_test_a_new)"
   ]
  },
  {
   "cell_type": "markdown",
   "id": "fdd92377",
   "metadata": {},
   "source": [
    "### Evaluating on Validation Set\n",
    "Evaluation metrics: ROC AUC"
   ]
  },
  {
   "cell_type": "code",
   "execution_count": 89,
   "id": "67cf9e82",
   "metadata": {},
   "outputs": [],
   "source": [
    "from sklearn.metrics import f1_score\n",
    "from sklearn.metrics import classification_report\n",
    "from sklearn.metrics import roc_curve\n",
    "from sklearn.metrics import roc_auc_score\n",
    "from sklearn.metrics import RocCurveDisplay"
   ]
  },
  {
   "cell_type": "code",
   "execution_count": 90,
   "id": "1f197993",
   "metadata": {},
   "outputs": [
    {
     "data": {
      "text/plain": [
       "(86,)"
      ]
     },
     "execution_count": 90,
     "metadata": {},
     "output_type": "execute_result"
    }
   ],
   "source": [
    "y_pred_a = lrm.predict(X_vali_a_new)\n",
    "y_pred_a.shape"
   ]
  },
  {
   "cell_type": "code",
   "execution_count": 91,
   "id": "9631d795",
   "metadata": {},
   "outputs": [
    {
     "data": {
      "text/plain": [
       "0.9538461538461539"
      ]
     },
     "execution_count": 91,
     "metadata": {},
     "output_type": "execute_result"
    }
   ],
   "source": [
    "f1_score(y_vali_a_new, y_pred_a)\n"
   ]
  },
  {
   "cell_type": "code",
   "execution_count": 92,
   "id": "6ec66ce3",
   "metadata": {},
   "outputs": [
    {
     "name": "stdout",
     "output_type": "stream",
     "text": [
      "              precision    recall  f1-score   support\n",
      "\n",
      "           0       0.98      0.96      0.97        54\n",
      "           1       0.94      0.97      0.95        32\n",
      "\n",
      "    accuracy                           0.97        86\n",
      "   macro avg       0.96      0.97      0.96        86\n",
      "weighted avg       0.97      0.97      0.97        86\n",
      "\n"
     ]
    }
   ],
   "source": [
    "print(classification_report(y_vali_a_new, y_pred_a))"
   ]
  },
  {
   "cell_type": "code",
   "execution_count": 93,
   "id": "58605dc7",
   "metadata": {},
   "outputs": [
    {
     "data": {
      "image/png": "[encoded data removed]",
      "text/plain": [
       "<Figure size 1170x827 with 1 Axes>"
      ]
     },
     "metadata": {},
     "output_type": "display_data"
    }
   ],
   "source": [
    "y_score_a = lrm.decision_function(X_vali_a_new)\n",
    "fpr, tpr, _ = roc_curve(y_vali_a_new, y_score_a)\n",
    "roc_display = RocCurveDisplay(fpr=fpr, tpr=tpr).plot()"
   ]
  },
  {
   "cell_type": "code",
   "execution_count": 94,
   "id": "5dea3a52",
   "metadata": {},
   "outputs": [
    {
     "data": {
      "text/plain": [
       "0.9988425925925927"
      ]
     },
     "execution_count": 94,
     "metadata": {},
     "output_type": "execute_result"
    }
   ],
   "source": [
    "roc_auc_score(y_vali_a_new, y_score_a)"
   ]
  },
  {
   "cell_type": "markdown",
   "id": "26a76b75",
   "metadata": {},
   "source": [
    "### Use feature set B"
   ]
  },
  {
   "cell_type": "code",
   "execution_count": 95,
   "id": "4480a40e",
   "metadata": {},
   "outputs": [],
   "source": [
    "# use other features\n",
    "feature_list_b = list(df_feature_b['feature_name'])\n",
    "X_b = X[feature_list_b]"
   ]
  },
  {
   "cell_type": "code",
   "execution_count": 96,
   "id": "e5b65d2c",
   "metadata": {},
   "outputs": [
    {
     "data": {
      "text/plain": [
       "(569, 10)"
      ]
     },
     "execution_count": 96,
     "metadata": {},
     "output_type": "execute_result"
    }
   ],
   "source": [
    "X_b.shape"
   ]
  },
  {
   "cell_type": "code",
   "execution_count": 97,
   "id": "37516085",
   "metadata": {},
   "outputs": [],
   "source": [
    "# Split data in 7:3 ratio into train, test sets\n",
    "X_train_b, X_test_b, y_train_b, y_test_b = train_test_split(X_b, y, test_size=0.3, random_state=42)"
   ]
  },
  {
   "cell_type": "code",
   "execution_count": 98,
   "id": "5f452410",
   "metadata": {},
   "outputs": [],
   "source": [
    "X_test_b_new = X_test_b.iloc[:math.floor(len(X_test_b)/2)]\n",
    "y_test_b_new = y_test_b.iloc[:math.floor(len(y_test_b)/2)]\n",
    "X_vali_b_new = X_test_b.iloc[math.floor(len(X_test_b)/2):]\n",
    "y_vali_b_new = y_test_b.iloc[math.floor(len(y_test_b)/2):]"
   ]
  },
  {
   "cell_type": "code",
   "execution_count": 99,
   "id": "44901244",
   "metadata": {},
   "outputs": [
    {
     "data": {
      "text/plain": [
       "((85, 10), (85, 1))"
      ]
     },
     "execution_count": 99,
     "metadata": {},
     "output_type": "execute_result"
    }
   ],
   "source": [
    "X_test_b_new.shape, y_test_b_new.shape"
   ]
  },
  {
   "cell_type": "code",
   "execution_count": 100,
   "id": "01e84c67",
   "metadata": {},
   "outputs": [
    {
     "data": {
      "text/plain": [
       "((86, 10), (86, 1))"
      ]
     },
     "execution_count": 100,
     "metadata": {},
     "output_type": "execute_result"
    }
   ],
   "source": [
    "X_vali_b_new.shape, y_vali_b_new.shape"
   ]
  },
  {
   "cell_type": "code",
   "execution_count": 101,
   "id": "6dfc3f68",
   "metadata": {},
   "outputs": [
    {
     "name": "stderr",
     "output_type": "stream",
     "text": [
      "/opt/homebrew/Caskroom/miniforge/base/envs/ml-env/lib/python3.11/site-packages/sklearn/utils/validation.py:1143: DataConversionWarning: A column-vector y was passed when a 1d array was expected. Please change the shape of y to (n_samples, ), for example using ravel().\n",
      "  y = column_or_1d(y, warn=True)\n"
     ]
    },
    {
     "data": {
      "text/plain": [
       "0.9069767441860465"
      ]
     },
     "execution_count": 101,
     "metadata": {},
     "output_type": "execute_result"
    }
   ],
   "source": [
    "lrm = LogisticRegression().fit(X_train_b, y_train_b)\n",
    "lrm.score(X_vali_b_new, y_vali_b_new)"
   ]
  },
  {
   "cell_type": "code",
   "execution_count": 102,
   "id": "e3fd9a19",
   "metadata": {},
   "outputs": [
    {
     "data": {
      "text/plain": [
       "(86,)"
      ]
     },
     "execution_count": 102,
     "metadata": {},
     "output_type": "execute_result"
    }
   ],
   "source": [
    "y_pred_b = lrm.predict(X_vali_b_new)\n",
    "y_pred_b.shape"
   ]
  },
  {
   "cell_type": "code",
   "execution_count": 103,
   "id": "7d7630dc",
   "metadata": {},
   "outputs": [
    {
     "data": {
      "text/plain": [
       "0.875"
      ]
     },
     "execution_count": 103,
     "metadata": {},
     "output_type": "execute_result"
    }
   ],
   "source": [
    "f1_score(y_vali_b_new, y_pred_b)"
   ]
  },
  {
   "cell_type": "code",
   "execution_count": 104,
   "id": "e236affb",
   "metadata": {},
   "outputs": [
    {
     "name": "stdout",
     "output_type": "stream",
     "text": [
      "              precision    recall  f1-score   support\n",
      "\n",
      "           0       0.93      0.93      0.93        54\n",
      "           1       0.88      0.88      0.88        32\n",
      "\n",
      "    accuracy                           0.91        86\n",
      "   macro avg       0.90      0.90      0.90        86\n",
      "weighted avg       0.91      0.91      0.91        86\n",
      "\n"
     ]
    }
   ],
   "source": [
    "print(classification_report(y_vali_b_new, y_pred_b))"
   ]
  },
  {
   "cell_type": "code",
   "execution_count": 105,
   "id": "bc81e8a7",
   "metadata": {},
   "outputs": [
    {
     "data": {
      "image/png": "[encoded data removed]",
      "text/plain": [
       "<Figure size 1170x827 with 1 Axes>"
      ]
     },
     "metadata": {},
     "output_type": "display_data"
    }
   ],
   "source": [
    "y_score_b = lrm.decision_function(X_vali_b_new)\n",
    "fpr, tpr, _ = roc_curve(y_vali_b_new, y_score_b)\n",
    "roc_display = RocCurveDisplay(fpr=fpr, tpr=tpr).plot()"
   ]
  },
  {
   "cell_type": "code",
   "execution_count": 106,
   "id": "1ffcc9a3",
   "metadata": {},
   "outputs": [
    {
     "data": {
      "text/plain": [
       "0.9571759259259259"
      ]
     },
     "execution_count": 106,
     "metadata": {},
     "output_type": "execute_result"
    }
   ],
   "source": [
    "roc_auc_score(y_vali_b_new, y_score_b)"
   ]
  },
  {
   "cell_type": "markdown",
   "id": "933d669b",
   "metadata": {},
   "source": [
    "### Use feature set C"
   ]
  },
  {
   "cell_type": "code",
   "execution_count": 107,
   "id": "0f9ebafa",
   "metadata": {},
   "outputs": [],
   "source": [
    "# use other features\n",
    "feature_list_c = list(df_feature_c['feature_name'])\n",
    "X_c = X[feature_list_c]"
   ]
  },
  {
   "cell_type": "code",
   "execution_count": 108,
   "id": "93407d8b",
   "metadata": {},
   "outputs": [
    {
     "data": {
      "text/plain": [
       "(569, 10)"
      ]
     },
     "execution_count": 108,
     "metadata": {},
     "output_type": "execute_result"
    }
   ],
   "source": [
    "X_c.shape"
   ]
  },
  {
   "cell_type": "code",
   "execution_count": 109,
   "id": "d6e4b7e1",
   "metadata": {},
   "outputs": [],
   "source": [
    "# Split data in 7:3 ratio into train, test sets\n",
    "X_train_c, X_test_c, y_train_c, y_test_c = train_test_split(X_c, y, test_size=0.3, random_state=42)"
   ]
  },
  {
   "cell_type": "code",
   "execution_count": 110,
   "id": "2644a76e",
   "metadata": {},
   "outputs": [],
   "source": [
    "X_test_c_new = X_test_c.iloc[:math.floor(len(X_test_c)/2)]\n",
    "y_test_c_new = y_test_c.iloc[:math.floor(len(y_test_c)/2)]\n",
    "X_vali_c_new = X_test_c.iloc[math.floor(len(X_test_c)/2):]\n",
    "y_vali_c_new = y_test_c.iloc[math.floor(len(y_test_c)/2):]"
   ]
  },
  {
   "cell_type": "code",
   "execution_count": 111,
   "id": "e445e934",
   "metadata": {},
   "outputs": [
    {
     "data": {
      "text/plain": [
       "((85, 10), (85, 1))"
      ]
     },
     "execution_count": 111,
     "metadata": {},
     "output_type": "execute_result"
    }
   ],
   "source": [
    "X_test_c_new.shape, y_test_c_new.shape"
   ]
  },
  {
   "cell_type": "code",
   "execution_count": 112,
   "id": "a1be9c96",
   "metadata": {},
   "outputs": [
    {
     "data": {
      "text/plain": [
       "((86, 10), (86, 1))"
      ]
     },
     "execution_count": 112,
     "metadata": {},
     "output_type": "execute_result"
    }
   ],
   "source": [
    "X_vali_c_new.shape, y_vali_c_new.shape"
   ]
  },
  {
   "cell_type": "code",
   "execution_count": 113,
   "id": "9911cc47",
   "metadata": {},
   "outputs": [
    {
     "name": "stderr",
     "output_type": "stream",
     "text": [
      "/opt/homebrew/Caskroom/miniforge/base/envs/ml-env/lib/python3.11/site-packages/sklearn/utils/validation.py:1143: DataConversionWarning: A column-vector y was passed when a 1d array was expected. Please change the shape of y to (n_samples, ), for example using ravel().\n",
      "  y = column_or_1d(y, warn=True)\n"
     ]
    },
    {
     "data": {
      "text/plain": [
       "0.627906976744186"
      ]
     },
     "execution_count": 113,
     "metadata": {},
     "output_type": "execute_result"
    }
   ],
   "source": [
    "lrm = LogisticRegression().fit(X_train_c, y_train_c)\n",
    "lrm.score(X_vali_c_new, y_vali_c_new)"
   ]
  },
  {
   "cell_type": "code",
   "execution_count": 114,
   "id": "1f8bd1fc",
   "metadata": {},
   "outputs": [
    {
     "data": {
      "text/plain": [
       "(86,)"
      ]
     },
     "execution_count": 114,
     "metadata": {},
     "output_type": "execute_result"
    }
   ],
   "source": [
    "y_pred_c = lrm.predict(X_vali_c_new)\n",
    "y_pred_c.shape"
   ]
  },
  {
   "cell_type": "code",
   "execution_count": 115,
   "id": "05ea326c",
   "metadata": {},
   "outputs": [
    {
     "data": {
      "text/plain": [
       "0.0"
      ]
     },
     "execution_count": 115,
     "metadata": {},
     "output_type": "execute_result"
    }
   ],
   "source": [
    "f1_score(y_vali_c_new, y_pred_c)"
   ]
  },
  {
   "cell_type": "code",
   "execution_count": 116,
   "id": "fb5d59c3",
   "metadata": {},
   "outputs": [
    {
     "name": "stdout",
     "output_type": "stream",
     "text": [
      "              precision    recall  f1-score   support\n",
      "\n",
      "           0       0.63      1.00      0.77        54\n",
      "           1       0.00      0.00      0.00        32\n",
      "\n",
      "    accuracy                           0.63        86\n",
      "   macro avg       0.31      0.50      0.39        86\n",
      "weighted avg       0.39      0.63      0.48        86\n",
      "\n"
     ]
    },
    {
     "name": "stderr",
     "output_type": "stream",
     "text": [
      "/opt/homebrew/Caskroom/miniforge/base/envs/ml-env/lib/python3.11/site-packages/sklearn/metrics/_classification.py:1344: UndefinedMetricWarning: Precision and F-score are ill-defined and being set to 0.0 in labels with no predicted samples. Use `zero_division` parameter to control this behavior.\n",
      "  _warn_prf(average, modifier, msg_start, len(result))\n",
      "/opt/homebrew/Caskroom/miniforge/base/envs/ml-env/lib/python3.11/site-packages/sklearn/metrics/_classification.py:1344: UndefinedMetricWarning: Precision and F-score are ill-defined and being set to 0.0 in labels with no predicted samples. Use `zero_division` parameter to control this behavior.\n",
      "  _warn_prf(average, modifier, msg_start, len(result))\n",
      "/opt/homebrew/Caskroom/miniforge/base/envs/ml-env/lib/python3.11/site-packages/sklearn/metrics/_classification.py:1344: UndefinedMetricWarning: Precision and F-score are ill-defined and being set to 0.0 in labels with no predicted samples. Use `zero_division` parameter to control this behavior.\n",
      "  _warn_prf(average, modifier, msg_start, len(result))\n"
     ]
    }
   ],
   "source": [
    "print(classification_report(y_vali_c_new, y_pred_c))"
   ]
  },
  {
   "cell_type": "code",
   "execution_count": 117,
   "id": "042c1f9c",
   "metadata": {},
   "outputs": [
    {
     "data": {
      "image/png": "[encoded data removed]",
      "text/plain": [
       "<Figure size 1170x827 with 1 Axes>"
      ]
     },
     "metadata": {},
     "output_type": "display_data"
    }
   ],
   "source": [
    "y_score_c = lrm.decision_function(X_vali_c_new)\n",
    "fpr, tpr, _ = roc_curve(y_vali_c_new, y_score_c)\n",
    "roc_display = RocCurveDisplay(fpr=fpr, tpr=tpr).plot()"
   ]
  },
  {
   "cell_type": "code",
   "execution_count": 118,
   "id": "24a9e596",
   "metadata": {},
   "outputs": [
    {
     "data": {
      "text/plain": [
       "0.7494212962962963"
      ]
     },
     "execution_count": 118,
     "metadata": {},
     "output_type": "execute_result"
    }
   ],
   "source": [
    "roc_auc_score(y_vali_c_new, y_score_c)"
   ]
  },
  {
   "cell_type": "markdown",
   "id": "90ff81fa",
   "metadata": {},
   "source": [
    "### Conclution\n",
    "After comparing the logistic regression models trained on **feature set A** (the top 10 best features) and **feature set B** (the second best 10 features), we can see from the roc curve and auc score that the first model outperform the second model by at least 5%, gave a more accurate prediction."
   ]
  }
 ],
 "metadata": {
  "kernelspec": {
   "display_name": "Python [conda env:ml-env]",
   "language": "python",
   "name": "conda-env-ml-env-py"
  },
  "language_info": {
   "codemirror_mode": {
    "name": "ipython",
    "version": 3
   },
   "file_extension": ".py",
   "mimetype": "text/x-python",
   "name": "python",
   "nbconvert_exporter": "python",
   "pygments_lexer": "ipython3",
   "version": "3.11.0"
  },
  "vscode": {
   "interpreter": {
    "hash": "b305a4b1270f31cd6e864a4acd6c4c9eb3f00ef58e83b7f05205adf2ab7c38fb"
   }
  }
 },
 "nbformat": 4,
 "nbformat_minor": 5
}
