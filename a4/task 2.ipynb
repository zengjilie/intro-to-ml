{
 "cells": [
  {
   "cell_type": "markdown",
   "metadata": {
    "id": "YYV6ora1bTLQ"
   },
   "source": [
    "# Task 2"
   ]
  },
  {
   "cell_type": "code",
   "execution_count": 1,
   "metadata": {
    "id": "T-olKvfCat2N"
   },
   "outputs": [],
   "source": [
    "# Import packages\n",
    "import pandas as pd\n",
    "import matplotlib.pyplot as plt"
   ]
  },
  {
   "cell_type": "code",
   "execution_count": 2,
   "metadata": {
    "id": "VTR1qMnebf23"
   },
   "outputs": [],
   "source": [
    "df = pd.read_csv('A4_question3_data.csv')"
   ]
  },
  {
   "cell_type": "code",
   "execution_count": 3,
   "metadata": {
    "colab": {
     "base_uri": "https://localhost:8080/"
    },
    "id": "zT_6-xn0b9R8",
    "outputId": "180692b0-9c9c-47f6-adf0-0a18d659040d"
   },
   "outputs": [
    {
     "data": {
      "text/plain": [
       "(777, 19)"
      ]
     },
     "execution_count": 3,
     "metadata": {},
     "output_type": "execute_result"
    }
   ],
   "source": [
    "df.shape"
   ]
  },
  {
   "cell_type": "code",
   "execution_count": 4,
   "metadata": {
    "colab": {
     "base_uri": "https://localhost:8080/",
     "height": 426
    },
    "id": "OgqEkG05bwB9",
    "outputId": "06599d5e-5e53-42e4-f9f9-883103a75031"
   },
   "outputs": [
    {
     "data": {
      "text/html": [
       "<div>\n",
       "<style scoped>\n",
       "    .dataframe tbody tr th:only-of-type {\n",
       "        vertical-align: middle;\n",
       "    }\n",
       "\n",
       "    .dataframe tbody tr th {\n",
       "        vertical-align: top;\n",
       "    }\n",
       "\n",
       "    .dataframe thead th {\n",
       "        text-align: right;\n",
       "    }\n",
       "</style>\n",
       "<table border=\"1\" class=\"dataframe\">\n",
       "  <thead>\n",
       "    <tr style=\"text-align: right;\">\n",
       "      <th></th>\n",
       "      <th>Unnamed: 0</th>\n",
       "      <th>Private</th>\n",
       "      <th>Apps</th>\n",
       "      <th>Accept</th>\n",
       "      <th>Enroll</th>\n",
       "      <th>Top10perc</th>\n",
       "      <th>Top25perc</th>\n",
       "      <th>F.Undergrad</th>\n",
       "      <th>P.Undergrad</th>\n",
       "      <th>Outstate</th>\n",
       "      <th>Room.Board</th>\n",
       "      <th>Books</th>\n",
       "      <th>Personal</th>\n",
       "      <th>PhD</th>\n",
       "      <th>Terminal</th>\n",
       "      <th>S.F.Ratio</th>\n",
       "      <th>perc.alumni</th>\n",
       "      <th>Expend</th>\n",
       "      <th>Grad.Rate</th>\n",
       "    </tr>\n",
       "  </thead>\n",
       "  <tbody>\n",
       "    <tr>\n",
       "      <th>0</th>\n",
       "      <td>Abilene Christian University</td>\n",
       "      <td>Yes</td>\n",
       "      <td>1660</td>\n",
       "      <td>1232</td>\n",
       "      <td>721</td>\n",
       "      <td>23</td>\n",
       "      <td>52</td>\n",
       "      <td>2885</td>\n",
       "      <td>537</td>\n",
       "      <td>7440</td>\n",
       "      <td>3300</td>\n",
       "      <td>450</td>\n",
       "      <td>2200</td>\n",
       "      <td>70</td>\n",
       "      <td>78</td>\n",
       "      <td>18.1</td>\n",
       "      <td>12</td>\n",
       "      <td>7041</td>\n",
       "      <td>60</td>\n",
       "    </tr>\n",
       "    <tr>\n",
       "      <th>1</th>\n",
       "      <td>Adelphi University</td>\n",
       "      <td>Yes</td>\n",
       "      <td>2186</td>\n",
       "      <td>1924</td>\n",
       "      <td>512</td>\n",
       "      <td>16</td>\n",
       "      <td>29</td>\n",
       "      <td>2683</td>\n",
       "      <td>1227</td>\n",
       "      <td>12280</td>\n",
       "      <td>6450</td>\n",
       "      <td>750</td>\n",
       "      <td>1500</td>\n",
       "      <td>29</td>\n",
       "      <td>30</td>\n",
       "      <td>12.2</td>\n",
       "      <td>16</td>\n",
       "      <td>10527</td>\n",
       "      <td>56</td>\n",
       "    </tr>\n",
       "    <tr>\n",
       "      <th>2</th>\n",
       "      <td>Adrian College</td>\n",
       "      <td>Yes</td>\n",
       "      <td>1428</td>\n",
       "      <td>1097</td>\n",
       "      <td>336</td>\n",
       "      <td>22</td>\n",
       "      <td>50</td>\n",
       "      <td>1036</td>\n",
       "      <td>99</td>\n",
       "      <td>11250</td>\n",
       "      <td>3750</td>\n",
       "      <td>400</td>\n",
       "      <td>1165</td>\n",
       "      <td>53</td>\n",
       "      <td>66</td>\n",
       "      <td>12.9</td>\n",
       "      <td>30</td>\n",
       "      <td>8735</td>\n",
       "      <td>54</td>\n",
       "    </tr>\n",
       "    <tr>\n",
       "      <th>3</th>\n",
       "      <td>Agnes Scott College</td>\n",
       "      <td>Yes</td>\n",
       "      <td>417</td>\n",
       "      <td>349</td>\n",
       "      <td>137</td>\n",
       "      <td>60</td>\n",
       "      <td>89</td>\n",
       "      <td>510</td>\n",
       "      <td>63</td>\n",
       "      <td>12960</td>\n",
       "      <td>5450</td>\n",
       "      <td>450</td>\n",
       "      <td>875</td>\n",
       "      <td>92</td>\n",
       "      <td>97</td>\n",
       "      <td>7.7</td>\n",
       "      <td>37</td>\n",
       "      <td>19016</td>\n",
       "      <td>59</td>\n",
       "    </tr>\n",
       "    <tr>\n",
       "      <th>4</th>\n",
       "      <td>Alaska Pacific University</td>\n",
       "      <td>Yes</td>\n",
       "      <td>193</td>\n",
       "      <td>146</td>\n",
       "      <td>55</td>\n",
       "      <td>16</td>\n",
       "      <td>44</td>\n",
       "      <td>249</td>\n",
       "      <td>869</td>\n",
       "      <td>7560</td>\n",
       "      <td>4120</td>\n",
       "      <td>800</td>\n",
       "      <td>1500</td>\n",
       "      <td>76</td>\n",
       "      <td>72</td>\n",
       "      <td>11.9</td>\n",
       "      <td>2</td>\n",
       "      <td>10922</td>\n",
       "      <td>15</td>\n",
       "    </tr>\n",
       "  </tbody>\n",
       "</table>\n",
       "</div>"
      ],
      "text/plain": [
       "                     Unnamed: 0 Private  Apps  Accept  Enroll  Top10perc  \\\n",
       "0  Abilene Christian University     Yes  1660    1232     721         23   \n",
       "1            Adelphi University     Yes  2186    1924     512         16   \n",
       "2                Adrian College     Yes  1428    1097     336         22   \n",
       "3           Agnes Scott College     Yes   417     349     137         60   \n",
       "4     Alaska Pacific University     Yes   193     146      55         16   \n",
       "\n",
       "   Top25perc  F.Undergrad  P.Undergrad  Outstate  Room.Board  Books  Personal  \\\n",
       "0         52         2885          537      7440        3300    450      2200   \n",
       "1         29         2683         1227     12280        6450    750      1500   \n",
       "2         50         1036           99     11250        3750    400      1165   \n",
       "3         89          510           63     12960        5450    450       875   \n",
       "4         44          249          869      7560        4120    800      1500   \n",
       "\n",
       "   PhD  Terminal  S.F.Ratio  perc.alumni  Expend  Grad.Rate  \n",
       "0   70        78       18.1           12    7041         60  \n",
       "1   29        30       12.2           16   10527         56  \n",
       "2   53        66       12.9           30    8735         54  \n",
       "3   92        97        7.7           37   19016         59  \n",
       "4   76        72       11.9            2   10922         15  "
      ]
     },
     "execution_count": 4,
     "metadata": {},
     "output_type": "execute_result"
    }
   ],
   "source": [
    "df.head()"
   ]
  },
  {
   "cell_type": "code",
   "execution_count": 5,
   "metadata": {
    "colab": {
     "base_uri": "https://localhost:8080/",
     "height": 270
    },
    "id": "9ACbEg8ycD9Y",
    "outputId": "14fed29a-e372-4778-d9e3-216362988aa4"
   },
   "outputs": [
    {
     "data": {
      "text/html": [
       "<div>\n",
       "<style scoped>\n",
       "    .dataframe tbody tr th:only-of-type {\n",
       "        vertical-align: middle;\n",
       "    }\n",
       "\n",
       "    .dataframe tbody tr th {\n",
       "        vertical-align: top;\n",
       "    }\n",
       "\n",
       "    .dataframe thead th {\n",
       "        text-align: right;\n",
       "    }\n",
       "</style>\n",
       "<table border=\"1\" class=\"dataframe\">\n",
       "  <thead>\n",
       "    <tr style=\"text-align: right;\">\n",
       "      <th></th>\n",
       "      <th>Private</th>\n",
       "      <th>Apps</th>\n",
       "      <th>Accept</th>\n",
       "      <th>Enroll</th>\n",
       "      <th>Top10perc</th>\n",
       "      <th>Top25perc</th>\n",
       "      <th>F.Undergrad</th>\n",
       "      <th>P.Undergrad</th>\n",
       "      <th>Outstate</th>\n",
       "      <th>Room.Board</th>\n",
       "      <th>Books</th>\n",
       "      <th>Personal</th>\n",
       "      <th>PhD</th>\n",
       "      <th>Terminal</th>\n",
       "      <th>S.F.Ratio</th>\n",
       "      <th>perc.alumni</th>\n",
       "      <th>Expend</th>\n",
       "      <th>Grad.Rate</th>\n",
       "    </tr>\n",
       "  </thead>\n",
       "  <tbody>\n",
       "    <tr>\n",
       "      <th>0</th>\n",
       "      <td>Yes</td>\n",
       "      <td>1660</td>\n",
       "      <td>1232</td>\n",
       "      <td>721</td>\n",
       "      <td>23</td>\n",
       "      <td>52</td>\n",
       "      <td>2885</td>\n",
       "      <td>537</td>\n",
       "      <td>7440</td>\n",
       "      <td>3300</td>\n",
       "      <td>450</td>\n",
       "      <td>2200</td>\n",
       "      <td>70</td>\n",
       "      <td>78</td>\n",
       "      <td>18.1</td>\n",
       "      <td>12</td>\n",
       "      <td>7041</td>\n",
       "      <td>60</td>\n",
       "    </tr>\n",
       "    <tr>\n",
       "      <th>1</th>\n",
       "      <td>Yes</td>\n",
       "      <td>2186</td>\n",
       "      <td>1924</td>\n",
       "      <td>512</td>\n",
       "      <td>16</td>\n",
       "      <td>29</td>\n",
       "      <td>2683</td>\n",
       "      <td>1227</td>\n",
       "      <td>12280</td>\n",
       "      <td>6450</td>\n",
       "      <td>750</td>\n",
       "      <td>1500</td>\n",
       "      <td>29</td>\n",
       "      <td>30</td>\n",
       "      <td>12.2</td>\n",
       "      <td>16</td>\n",
       "      <td>10527</td>\n",
       "      <td>56</td>\n",
       "    </tr>\n",
       "    <tr>\n",
       "      <th>2</th>\n",
       "      <td>Yes</td>\n",
       "      <td>1428</td>\n",
       "      <td>1097</td>\n",
       "      <td>336</td>\n",
       "      <td>22</td>\n",
       "      <td>50</td>\n",
       "      <td>1036</td>\n",
       "      <td>99</td>\n",
       "      <td>11250</td>\n",
       "      <td>3750</td>\n",
       "      <td>400</td>\n",
       "      <td>1165</td>\n",
       "      <td>53</td>\n",
       "      <td>66</td>\n",
       "      <td>12.9</td>\n",
       "      <td>30</td>\n",
       "      <td>8735</td>\n",
       "      <td>54</td>\n",
       "    </tr>\n",
       "    <tr>\n",
       "      <th>3</th>\n",
       "      <td>Yes</td>\n",
       "      <td>417</td>\n",
       "      <td>349</td>\n",
       "      <td>137</td>\n",
       "      <td>60</td>\n",
       "      <td>89</td>\n",
       "      <td>510</td>\n",
       "      <td>63</td>\n",
       "      <td>12960</td>\n",
       "      <td>5450</td>\n",
       "      <td>450</td>\n",
       "      <td>875</td>\n",
       "      <td>92</td>\n",
       "      <td>97</td>\n",
       "      <td>7.7</td>\n",
       "      <td>37</td>\n",
       "      <td>19016</td>\n",
       "      <td>59</td>\n",
       "    </tr>\n",
       "    <tr>\n",
       "      <th>4</th>\n",
       "      <td>Yes</td>\n",
       "      <td>193</td>\n",
       "      <td>146</td>\n",
       "      <td>55</td>\n",
       "      <td>16</td>\n",
       "      <td>44</td>\n",
       "      <td>249</td>\n",
       "      <td>869</td>\n",
       "      <td>7560</td>\n",
       "      <td>4120</td>\n",
       "      <td>800</td>\n",
       "      <td>1500</td>\n",
       "      <td>76</td>\n",
       "      <td>72</td>\n",
       "      <td>11.9</td>\n",
       "      <td>2</td>\n",
       "      <td>10922</td>\n",
       "      <td>15</td>\n",
       "    </tr>\n",
       "  </tbody>\n",
       "</table>\n",
       "</div>"
      ],
      "text/plain": [
       "  Private  Apps  Accept  Enroll  Top10perc  Top25perc  F.Undergrad  \\\n",
       "0     Yes  1660    1232     721         23         52         2885   \n",
       "1     Yes  2186    1924     512         16         29         2683   \n",
       "2     Yes  1428    1097     336         22         50         1036   \n",
       "3     Yes   417     349     137         60         89          510   \n",
       "4     Yes   193     146      55         16         44          249   \n",
       "\n",
       "   P.Undergrad  Outstate  Room.Board  Books  Personal  PhD  Terminal  \\\n",
       "0          537      7440        3300    450      2200   70        78   \n",
       "1         1227     12280        6450    750      1500   29        30   \n",
       "2           99     11250        3750    400      1165   53        66   \n",
       "3           63     12960        5450    450       875   92        97   \n",
       "4          869      7560        4120    800      1500   76        72   \n",
       "\n",
       "   S.F.Ratio  perc.alumni  Expend  Grad.Rate  \n",
       "0       18.1           12    7041         60  \n",
       "1       12.2           16   10527         56  \n",
       "2       12.9           30    8735         54  \n",
       "3        7.7           37   19016         59  \n",
       "4       11.9            2   10922         15  "
      ]
     },
     "execution_count": 5,
     "metadata": {},
     "output_type": "execute_result"
    }
   ],
   "source": [
    "df = df.drop(columns=['Unnamed: 0'])\n",
    "df.head()"
   ]
  },
  {
   "cell_type": "code",
   "execution_count": 6,
   "metadata": {
    "colab": {
     "base_uri": "https://localhost:8080/"
    },
    "id": "KmDCmt1tjleS",
    "outputId": "d3add1ec-3ea5-4b68-81e7-67539926d774"
   },
   "outputs": [
    {
     "data": {
      "text/plain": [
       "(777, 18)"
      ]
     },
     "execution_count": 6,
     "metadata": {},
     "output_type": "execute_result"
    }
   ],
   "source": [
    "df.shape"
   ]
  },
  {
   "cell_type": "code",
   "execution_count": 7,
   "metadata": {
    "colab": {
     "base_uri": "https://localhost:8080/",
     "height": 270
    },
    "id": "dV26ott0f4Ak",
    "outputId": "986bc194-c492-4ffe-90f6-b98c0973e27e"
   },
   "outputs": [
    {
     "data": {
      "text/html": [
       "<div>\n",
       "<style scoped>\n",
       "    .dataframe tbody tr th:only-of-type {\n",
       "        vertical-align: middle;\n",
       "    }\n",
       "\n",
       "    .dataframe tbody tr th {\n",
       "        vertical-align: top;\n",
       "    }\n",
       "\n",
       "    .dataframe thead th {\n",
       "        text-align: right;\n",
       "    }\n",
       "</style>\n",
       "<table border=\"1\" class=\"dataframe\">\n",
       "  <thead>\n",
       "    <tr style=\"text-align: right;\">\n",
       "      <th></th>\n",
       "      <th>Private</th>\n",
       "      <th>Apps</th>\n",
       "      <th>Accept</th>\n",
       "      <th>Enroll</th>\n",
       "      <th>Top10perc</th>\n",
       "      <th>Top25perc</th>\n",
       "      <th>F.Undergrad</th>\n",
       "      <th>P.Undergrad</th>\n",
       "      <th>Outstate</th>\n",
       "      <th>Room.Board</th>\n",
       "      <th>Books</th>\n",
       "      <th>Personal</th>\n",
       "      <th>PhD</th>\n",
       "      <th>Terminal</th>\n",
       "      <th>S.F.Ratio</th>\n",
       "      <th>perc.alumni</th>\n",
       "      <th>Expend</th>\n",
       "      <th>Grad.Rate</th>\n",
       "    </tr>\n",
       "  </thead>\n",
       "  <tbody>\n",
       "    <tr>\n",
       "      <th>0</th>\n",
       "      <td>1</td>\n",
       "      <td>1660</td>\n",
       "      <td>1232</td>\n",
       "      <td>721</td>\n",
       "      <td>23</td>\n",
       "      <td>52</td>\n",
       "      <td>2885</td>\n",
       "      <td>537</td>\n",
       "      <td>7440</td>\n",
       "      <td>3300</td>\n",
       "      <td>450</td>\n",
       "      <td>2200</td>\n",
       "      <td>70</td>\n",
       "      <td>78</td>\n",
       "      <td>18.1</td>\n",
       "      <td>12</td>\n",
       "      <td>7041</td>\n",
       "      <td>60</td>\n",
       "    </tr>\n",
       "    <tr>\n",
       "      <th>1</th>\n",
       "      <td>1</td>\n",
       "      <td>2186</td>\n",
       "      <td>1924</td>\n",
       "      <td>512</td>\n",
       "      <td>16</td>\n",
       "      <td>29</td>\n",
       "      <td>2683</td>\n",
       "      <td>1227</td>\n",
       "      <td>12280</td>\n",
       "      <td>6450</td>\n",
       "      <td>750</td>\n",
       "      <td>1500</td>\n",
       "      <td>29</td>\n",
       "      <td>30</td>\n",
       "      <td>12.2</td>\n",
       "      <td>16</td>\n",
       "      <td>10527</td>\n",
       "      <td>56</td>\n",
       "    </tr>\n",
       "    <tr>\n",
       "      <th>2</th>\n",
       "      <td>1</td>\n",
       "      <td>1428</td>\n",
       "      <td>1097</td>\n",
       "      <td>336</td>\n",
       "      <td>22</td>\n",
       "      <td>50</td>\n",
       "      <td>1036</td>\n",
       "      <td>99</td>\n",
       "      <td>11250</td>\n",
       "      <td>3750</td>\n",
       "      <td>400</td>\n",
       "      <td>1165</td>\n",
       "      <td>53</td>\n",
       "      <td>66</td>\n",
       "      <td>12.9</td>\n",
       "      <td>30</td>\n",
       "      <td>8735</td>\n",
       "      <td>54</td>\n",
       "    </tr>\n",
       "    <tr>\n",
       "      <th>3</th>\n",
       "      <td>1</td>\n",
       "      <td>417</td>\n",
       "      <td>349</td>\n",
       "      <td>137</td>\n",
       "      <td>60</td>\n",
       "      <td>89</td>\n",
       "      <td>510</td>\n",
       "      <td>63</td>\n",
       "      <td>12960</td>\n",
       "      <td>5450</td>\n",
       "      <td>450</td>\n",
       "      <td>875</td>\n",
       "      <td>92</td>\n",
       "      <td>97</td>\n",
       "      <td>7.7</td>\n",
       "      <td>37</td>\n",
       "      <td>19016</td>\n",
       "      <td>59</td>\n",
       "    </tr>\n",
       "    <tr>\n",
       "      <th>4</th>\n",
       "      <td>1</td>\n",
       "      <td>193</td>\n",
       "      <td>146</td>\n",
       "      <td>55</td>\n",
       "      <td>16</td>\n",
       "      <td>44</td>\n",
       "      <td>249</td>\n",
       "      <td>869</td>\n",
       "      <td>7560</td>\n",
       "      <td>4120</td>\n",
       "      <td>800</td>\n",
       "      <td>1500</td>\n",
       "      <td>76</td>\n",
       "      <td>72</td>\n",
       "      <td>11.9</td>\n",
       "      <td>2</td>\n",
       "      <td>10922</td>\n",
       "      <td>15</td>\n",
       "    </tr>\n",
       "  </tbody>\n",
       "</table>\n",
       "</div>"
      ],
      "text/plain": [
       "   Private  Apps  Accept  Enroll  Top10perc  Top25perc  F.Undergrad  \\\n",
       "0        1  1660    1232     721         23         52         2885   \n",
       "1        1  2186    1924     512         16         29         2683   \n",
       "2        1  1428    1097     336         22         50         1036   \n",
       "3        1   417     349     137         60         89          510   \n",
       "4        1   193     146      55         16         44          249   \n",
       "\n",
       "   P.Undergrad  Outstate  Room.Board  Books  Personal  PhD  Terminal  \\\n",
       "0          537      7440        3300    450      2200   70        78   \n",
       "1         1227     12280        6450    750      1500   29        30   \n",
       "2           99     11250        3750    400      1165   53        66   \n",
       "3           63     12960        5450    450       875   92        97   \n",
       "4          869      7560        4120    800      1500   76        72   \n",
       "\n",
       "   S.F.Ratio  perc.alumni  Expend  Grad.Rate  \n",
       "0       18.1           12    7041         60  \n",
       "1       12.2           16   10527         56  \n",
       "2       12.9           30    8735         54  \n",
       "3        7.7           37   19016         59  \n",
       "4       11.9            2   10922         15  "
      ]
     },
     "execution_count": 7,
     "metadata": {},
     "output_type": "execute_result"
    }
   ],
   "source": [
    "df = df.replace(['Yes','No'],[1,0])\n",
    "df.head()"
   ]
  },
  {
   "cell_type": "markdown",
   "metadata": {
    "id": "BqduLx30cpUr"
   },
   "source": [
    "## Data Cleaning"
   ]
  },
  {
   "cell_type": "code",
   "execution_count": 8,
   "metadata": {
    "colab": {
     "base_uri": "https://localhost:8080/"
    },
    "id": "jWTOoTHocryU",
    "outputId": "814a9996-b2a7-491a-cbd1-7f09df4c0ce8"
   },
   "outputs": [
    {
     "name": "stdout",
     "output_type": "stream",
     "text": [
      "<class 'pandas.core.frame.DataFrame'>\n",
      "RangeIndex: 777 entries, 0 to 776\n",
      "Data columns (total 18 columns):\n",
      " #   Column       Non-Null Count  Dtype  \n",
      "---  ------       --------------  -----  \n",
      " 0   Private      777 non-null    int64  \n",
      " 1   Apps         777 non-null    int64  \n",
      " 2   Accept       777 non-null    int64  \n",
      " 3   Enroll       777 non-null    int64  \n",
      " 4   Top10perc    777 non-null    int64  \n",
      " 5   Top25perc    777 non-null    int64  \n",
      " 6   F.Undergrad  777 non-null    int64  \n",
      " 7   P.Undergrad  777 non-null    int64  \n",
      " 8   Outstate     777 non-null    int64  \n",
      " 9   Room.Board   777 non-null    int64  \n",
      " 10  Books        777 non-null    int64  \n",
      " 11  Personal     777 non-null    int64  \n",
      " 12  PhD          777 non-null    int64  \n",
      " 13  Terminal     777 non-null    int64  \n",
      " 14  S.F.Ratio    777 non-null    float64\n",
      " 15  perc.alumni  777 non-null    int64  \n",
      " 16  Expend       777 non-null    int64  \n",
      " 17  Grad.Rate    777 non-null    int64  \n",
      "dtypes: float64(1), int64(17)\n",
      "memory usage: 109.4 KB\n"
     ]
    }
   ],
   "source": [
    "df.info()"
   ]
  },
  {
   "cell_type": "code",
   "execution_count": 9,
   "metadata": {
    "colab": {
     "base_uri": "https://localhost:8080/"
    },
    "id": "uHKh2BNncvbG",
    "outputId": "5bacec23-830d-483d-d8b9-f7a61ff1c4bb"
   },
   "outputs": [
    {
     "data": {
      "text/plain": [
       "Private        0\n",
       "Apps           0\n",
       "Accept         0\n",
       "Enroll         0\n",
       "Top10perc      0\n",
       "Top25perc      0\n",
       "F.Undergrad    0\n",
       "P.Undergrad    0\n",
       "Outstate       0\n",
       "Room.Board     0\n",
       "Books          0\n",
       "Personal       0\n",
       "PhD            0\n",
       "Terminal       0\n",
       "S.F.Ratio      0\n",
       "perc.alumni    0\n",
       "Expend         0\n",
       "Grad.Rate      0\n",
       "dtype: int64"
      ]
     },
     "execution_count": 9,
     "metadata": {},
     "output_type": "execute_result"
    }
   ],
   "source": [
    "df.isna().sum()"
   ]
  },
  {
   "cell_type": "code",
   "execution_count": 10,
   "metadata": {
    "colab": {
     "base_uri": "https://localhost:8080/",
     "height": 1000
    },
    "id": "_scj9kaVcy5D",
    "outputId": "401570ba-a932-474c-833b-9844ab8634f1"
   },
   "outputs": [
    {
     "name": "stderr",
     "output_type": "stream",
     "text": [
      "/var/folders/zx/ztvyyvwn3s7brldd0f6_565m0000gn/T/ipykernel_94484/4283695574.py:3: UserWarning: To output multiple subplots, the figure containing the passed axes is being cleared.\n",
      "  df.hist(ax = ax)\n"
     ]
    },
    {
     "data": {
      "text/plain": [
       "array([[<Axes: title={'center': 'Private'}>,\n",
       "        <Axes: title={'center': 'Apps'}>,\n",
       "        <Axes: title={'center': 'Accept'}>,\n",
       "        <Axes: title={'center': 'Enroll'}>],\n",
       "       [<Axes: title={'center': 'Top10perc'}>,\n",
       "        <Axes: title={'center': 'Top25perc'}>,\n",
       "        <Axes: title={'center': 'F.Undergrad'}>,\n",
       "        <Axes: title={'center': 'P.Undergrad'}>],\n",
       "       [<Axes: title={'center': 'Outstate'}>,\n",
       "        <Axes: title={'center': 'Room.Board'}>,\n",
       "        <Axes: title={'center': 'Books'}>,\n",
       "        <Axes: title={'center': 'Personal'}>],\n",
       "       [<Axes: title={'center': 'PhD'}>,\n",
       "        <Axes: title={'center': 'Terminal'}>,\n",
       "        <Axes: title={'center': 'S.F.Ratio'}>,\n",
       "        <Axes: title={'center': 'perc.alumni'}>],\n",
       "       [<Axes: title={'center': 'Expend'}>,\n",
       "        <Axes: title={'center': 'Grad.Rate'}>, <Axes: >, <Axes: >]],\n",
       "      dtype=object)"
      ]
     },
     "execution_count": 10,
     "metadata": {},
     "output_type": "execute_result"
    },
    {
     "data": {
      "image/png": "[encoded data removed]",
      "text/plain": [
       "<Figure size 1500x2000 with 20 Axes>"
      ]
     },
     "metadata": {},
     "output_type": "display_data"
    }
   ],
   "source": [
    "fig = plt.figure(figsize = (15,20))\n",
    "ax = fig.gca()\n",
    "df.hist(ax = ax)"
   ]
  },
  {
   "cell_type": "code",
   "execution_count": 11,
   "metadata": {
    "id": "lzau3_c_gW4_"
   },
   "outputs": [],
   "source": [
    "import seaborn as sns"
   ]
  },
  {
   "cell_type": "markdown",
   "metadata": {
    "id": "kvIAM95EgtVJ"
   },
   "source": [
    "There are outliner in features \"Apps\", \"Accept\", \"Enroll\", \"F.Undergrad\", \"P.Undergrad\", \"Books\", \"Personal\", \"Expend\""
   ]
  },
  {
   "cell_type": "code",
   "execution_count": 12,
   "metadata": {
    "colab": {
     "base_uri": "https://localhost:8080/",
     "height": 297
    },
    "id": "F83JQfLggjKg",
    "outputId": "ae4baaab-d478-4a33-fb76-59942d72667c"
   },
   "outputs": [
    {
     "data": {
      "text/plain": [
       "<Axes: xlabel='Apps'>"
      ]
     },
     "execution_count": 12,
     "metadata": {},
     "output_type": "execute_result"
    },
    {
     "data": {
      "image/png": "[encoded data removed]",
      "text/plain": [
       "<Figure size 640x480 with 1 Axes>"
      ]
     },
     "metadata": {},
     "output_type": "display_data"
    }
   ],
   "source": [
    "# Box plot on Apps\n",
    "sns.boxplot(x=df[\"Apps\"])"
   ]
  },
  {
   "cell_type": "code",
   "execution_count": 13,
   "metadata": {
    "id": "FFrPcem-iiUd"
   },
   "outputs": [],
   "source": [
    "def remove_outliers(df,columns,n_std):\n",
    "    for col in columns:\n",
    "        print('Working on column: {}'.format(col))\n",
    "        \n",
    "        mean = df[col].mean()\n",
    "        sd = df[col].std()\n",
    "        \n",
    "        df = df[(df[col] <= mean+(n_std*sd))]\n",
    "        \n",
    "    return df"
   ]
  },
  {
   "cell_type": "code",
   "execution_count": 14,
   "metadata": {
    "colab": {
     "base_uri": "https://localhost:8080/"
    },
    "id": "r4PxwmKvjNO_",
    "outputId": "0e79d641-768d-4968-d285-fdbc9c828433"
   },
   "outputs": [
    {
     "name": "stdout",
     "output_type": "stream",
     "text": [
      "Working on column: Apps\n",
      "Working on column: Accept\n",
      "Working on column: Enroll\n",
      "Working on column: F.Undergrad\n",
      "Working on column: P.Undergrad\n",
      "Working on column: Books\n",
      "Working on column: Personal\n",
      "Working on column: Expend\n"
     ]
    }
   ],
   "source": [
    "df = remove_outliers(df,[\"Apps\", \"Accept\", \"Enroll\", \"F.Undergrad\", \"P.Undergrad\", \"Books\", \"Personal\", \"Expend\"],3)"
   ]
  },
  {
   "cell_type": "code",
   "execution_count": 15,
   "metadata": {
    "colab": {
     "base_uri": "https://localhost:8080/"
    },
    "id": "hpmhTqnnjfr2",
    "outputId": "96a6137d-8a24-443e-8d56-6221537c94bd"
   },
   "outputs": [
    {
     "data": {
      "text/plain": [
       "(662, 18)"
      ]
     },
     "execution_count": 15,
     "metadata": {},
     "output_type": "execute_result"
    }
   ],
   "source": [
    "df.shape"
   ]
  },
  {
   "cell_type": "markdown",
   "metadata": {
    "id": "wZmiq7RrenSe"
   },
   "source": [
    "## Split data"
   ]
  },
  {
   "cell_type": "code",
   "execution_count": 16,
   "metadata": {
    "id": "3hUjLrefkAnS"
   },
   "outputs": [],
   "source": [
    "from sklearn.model_selection import train_test_split\n",
    "import math"
   ]
  },
  {
   "cell_type": "code",
   "execution_count": 17,
   "metadata": {
    "id": "xacTeqSqkFcz"
   },
   "outputs": [],
   "source": [
    "X = df.drop(columns=['Private'])\n",
    "y = df['Private']"
   ]
  },
  {
   "cell_type": "code",
   "execution_count": 18,
   "metadata": {
    "colab": {
     "base_uri": "https://localhost:8080/"
    },
    "id": "iv21nNdPkQ8n",
    "outputId": "5b33d9af-36f9-4801-ccbe-3b991e8a7317"
   },
   "outputs": [
    {
     "data": {
      "text/plain": [
       "((662, 17), (662,))"
      ]
     },
     "execution_count": 18,
     "metadata": {},
     "output_type": "execute_result"
    }
   ],
   "source": [
    "X.shape, y.shape"
   ]
  },
  {
   "cell_type": "code",
   "execution_count": 19,
   "metadata": {
    "id": "do8uEZf9kT6a"
   },
   "outputs": [],
   "source": [
    "X_train, X_test_vali, y_train, y_test_vali = train_test_split(X, y, test_size=0.33, random_state=42)"
   ]
  },
  {
   "cell_type": "code",
   "execution_count": 20,
   "metadata": {
    "colab": {
     "base_uri": "https://localhost:8080/"
    },
    "id": "6pnpT5gpkdpK",
    "outputId": "22545858-c115-4095-bdf6-23a8e5051bae"
   },
   "outputs": [
    {
     "data": {
      "text/plain": [
       "((443, 17), (219, 17))"
      ]
     },
     "execution_count": 20,
     "metadata": {},
     "output_type": "execute_result"
    }
   ],
   "source": [
    "X_train.shape, X_test_vali.shape"
   ]
  },
  {
   "cell_type": "code",
   "execution_count": 21,
   "metadata": {
    "id": "BYUMzJFNkhMT"
   },
   "outputs": [],
   "source": [
    "X_test = X_test_vali[:math.floor(X_test_vali.shape[0]/2)]\n",
    "X_vali = X_test_vali[math.floor(X_test_vali.shape[0]/2):]"
   ]
  },
  {
   "cell_type": "code",
   "execution_count": 22,
   "metadata": {
    "colab": {
     "base_uri": "https://localhost:8080/"
    },
    "id": "oOX110nrk1DW",
    "outputId": "75e5cd23-a70b-473f-91f2-3d4e25e33d1e"
   },
   "outputs": [
    {
     "data": {
      "text/plain": [
       "((109, 17), (110, 17))"
      ]
     },
     "execution_count": 22,
     "metadata": {},
     "output_type": "execute_result"
    }
   ],
   "source": [
    "X_test.shape, X_vali.shape"
   ]
  },
  {
   "cell_type": "code",
   "execution_count": 23,
   "metadata": {
    "id": "Plk2istPldX5"
   },
   "outputs": [],
   "source": [
    "y_test = y_test_vali[:math.floor(y_test_vali.shape[0]/2)]\n",
    "y_vali = y_test_vali[math.floor(y_test_vali.shape[0]/2):]"
   ]
  },
  {
   "cell_type": "code",
   "execution_count": 24,
   "metadata": {
    "colab": {
     "base_uri": "https://localhost:8080/"
    },
    "id": "TkZVMX8DlndS",
    "outputId": "4b5e92eb-553b-4fcd-80c3-c14d6a8727a1"
   },
   "outputs": [
    {
     "data": {
      "text/plain": [
       "((109,), (110,))"
      ]
     },
     "execution_count": 24,
     "metadata": {},
     "output_type": "execute_result"
    }
   ],
   "source": [
    "y_test.shape, y_vali.shape"
   ]
  },
  {
   "cell_type": "markdown",
   "metadata": {
    "id": "881tjVI5l3GH"
   },
   "source": [
    "## Logistic Regression Model"
   ]
  },
  {
   "cell_type": "code",
   "execution_count": 25,
   "metadata": {
    "id": "B9abe5EMeqx4"
   },
   "outputs": [],
   "source": [
    "from sklearn.linear_model import LogisticRegression"
   ]
  },
  {
   "cell_type": "code",
   "execution_count": 26,
   "metadata": {
    "colab": {
     "base_uri": "https://localhost:8080/"
    },
    "id": "kMagjA4Je9Zl",
    "outputId": "b237bca8-c0d6-4089-9bd9-0f82c00c190b"
   },
   "outputs": [
    {
     "name": "stderr",
     "output_type": "stream",
     "text": [
      "/opt/homebrew/Caskroom/miniforge/base/envs/ml-env/lib/python3.10/site-packages/sklearn/linear_model/_logistic.py:458: ConvergenceWarning: lbfgs failed to converge (status=1):\n",
      "STOP: TOTAL NO. of ITERATIONS REACHED LIMIT.\n",
      "\n",
      "Increase the number of iterations (max_iter) or scale the data as shown in:\n",
      "    https://scikit-learn.org/stable/modules/preprocessing.html\n",
      "Please also refer to the documentation for alternative solver options:\n",
      "    https://scikit-learn.org/stable/modules/linear_model.html#logistic-regression\n",
      "  n_iter_i = _check_optimize_result(\n"
     ]
    }
   ],
   "source": [
    "clf = LogisticRegression(random_state=0).fit(X_train, y_train)"
   ]
  },
  {
   "cell_type": "markdown",
   "metadata": {
    "id": "r6q7JNpdmoB0"
   },
   "source": [
    "## Evaludation on Validateion Set"
   ]
  },
  {
   "cell_type": "code",
   "execution_count": 82,
   "metadata": {
    "id": "rnOYNhelmng5"
   },
   "outputs": [],
   "source": [
    "from sklearn.metrics import f1_score\n",
    "from sklearn.metrics import classification_report\n",
    "from sklearn.metrics import roc_curve\n",
    "from sklearn.metrics import roc_auc_score"
   ]
  },
  {
   "cell_type": "code",
   "execution_count": 28,
   "metadata": {
    "colab": {
     "base_uri": "https://localhost:8080/"
    },
    "id": "nrQzN7JhlyA6",
    "outputId": "dd99e28e-1a21-48b9-c4ca-692f1a569cb0"
   },
   "outputs": [
    {
     "data": {
      "text/plain": [
       "(110,)"
      ]
     },
     "execution_count": 28,
     "metadata": {},
     "output_type": "execute_result"
    }
   ],
   "source": [
    "y_pred = clf.predict(X_vali)\n",
    "y_pred.shape"
   ]
  },
  {
   "cell_type": "code",
   "execution_count": 29,
   "metadata": {
    "colab": {
     "base_uri": "https://localhost:8080/"
    },
    "id": "F8CGwbUhm5oJ",
    "outputId": "e804ba70-2ae2-447e-d65a-f8c4dbd5b24c"
   },
   "outputs": [
    {
     "name": "stdout",
     "output_type": "stream",
     "text": [
      "F1 score is : 0.9772727272727273\n"
     ]
    }
   ],
   "source": [
    "print('F1 score is :', f1_score(y_vali, y_pred))"
   ]
  },
  {
   "cell_type": "code",
   "execution_count": 30,
   "metadata": {
    "colab": {
     "base_uri": "https://localhost:8080/"
    },
    "id": "cxZS5d5nm_zg",
    "outputId": "d0d5beba-9204-40fd-8e64-0287a765e45c"
   },
   "outputs": [
    {
     "name": "stdout",
     "output_type": "stream",
     "text": [
      "              precision    recall  f1-score   support\n",
      "\n",
      "           0       0.87      0.95      0.91        21\n",
      "           1       0.99      0.97      0.98        89\n",
      "\n",
      "    accuracy                           0.96       110\n",
      "   macro avg       0.93      0.96      0.94       110\n",
      "weighted avg       0.97      0.96      0.96       110\n",
      "\n"
     ]
    }
   ],
   "source": [
    "print(classification_report(y_vali, y_pred))"
   ]
  },
  {
   "cell_type": "code",
   "execution_count": 59,
   "metadata": {
    "colab": {
     "base_uri": "https://localhost:8080/"
    },
    "id": "oad8tD-qnP9c",
    "outputId": "e5e60158-58bd-476d-f424-9e414ebc5e57"
   },
   "outputs": [
    {
     "name": "stdout",
     "output_type": "stream",
     "text": [
      "AUC score is  0.9834135901551632\n"
     ]
    }
   ],
   "source": [
    "print('AUC score is ', roc_auc_score(y_vali, clf.predict_proba(X_vali)[:,1]))"
   ]
  },
  {
   "cell_type": "markdown",
   "metadata": {},
   "source": [
    "## Plot confusion matrix"
   ]
  },
  {
   "cell_type": "code",
   "execution_count": 83,
   "metadata": {},
   "outputs": [],
   "source": [
    "from sklearn.metrics import confusion_matrix, ConfusionMatrixDisplay"
   ]
  },
  {
   "cell_type": "code",
   "execution_count": 86,
   "metadata": {},
   "outputs": [],
   "source": [
    "cm = confusion_matrix(y_vali, y_pred)"
   ]
  },
  {
   "cell_type": "code",
   "execution_count": 88,
   "metadata": {},
   "outputs": [
    {
     "data": {
      "text/plain": [
       "<sklearn.metrics._plot.confusion_matrix.ConfusionMatrixDisplay at 0x13e8cbf10>"
      ]
     },
     "execution_count": 88,
     "metadata": {},
     "output_type": "execute_result"
    },
    {
     "data": {
      "image/png": "[encoded data removed]",
      "text/plain": [
       "<Figure size 640x480 with 2 Axes>"
      ]
     },
     "metadata": {},
     "output_type": "display_data"
    }
   ],
   "source": [
    "disp = ConfusionMatrixDisplay(confusion_matrix=cm)\n",
    "disp.plot()"
   ]
  },
  {
   "cell_type": "markdown",
   "metadata": {
    "id": "6hkYZjOGnsPR"
   },
   "source": [
    "## K-means"
   ]
  },
  {
   "cell_type": "code",
   "execution_count": 60,
   "metadata": {
    "colab": {
     "base_uri": "https://localhost:8080/"
    },
    "id": "B-s8GISEnzjW",
    "outputId": "61d37e41-ee8e-4901-da7f-45ff22628144"
   },
   "outputs": [
    {
     "data": {
      "text/plain": [
       "(443, 17)"
      ]
     },
     "execution_count": 60,
     "metadata": {},
     "output_type": "execute_result"
    }
   ],
   "source": [
    "X_train.shape"
   ]
  },
  {
   "cell_type": "code",
   "execution_count": 61,
   "metadata": {
    "colab": {
     "base_uri": "https://localhost:8080/",
     "height": 270
    },
    "id": "iZQ21usnnu0p",
    "outputId": "6947d3aa-9901-4b6f-d5cd-85e4accceea7"
   },
   "outputs": [
    {
     "data": {
      "text/html": [
       "<div>\n",
       "<style scoped>\n",
       "    .dataframe tbody tr th:only-of-type {\n",
       "        vertical-align: middle;\n",
       "    }\n",
       "\n",
       "    .dataframe tbody tr th {\n",
       "        vertical-align: top;\n",
       "    }\n",
       "\n",
       "    .dataframe thead th {\n",
       "        text-align: right;\n",
       "    }\n",
       "</style>\n",
       "<table border=\"1\" class=\"dataframe\">\n",
       "  <thead>\n",
       "    <tr style=\"text-align: right;\">\n",
       "      <th></th>\n",
       "      <th>Apps</th>\n",
       "      <th>Accept</th>\n",
       "      <th>Enroll</th>\n",
       "      <th>Top10perc</th>\n",
       "      <th>Top25perc</th>\n",
       "      <th>F.Undergrad</th>\n",
       "      <th>P.Undergrad</th>\n",
       "      <th>Outstate</th>\n",
       "      <th>Room.Board</th>\n",
       "      <th>Books</th>\n",
       "      <th>Personal</th>\n",
       "      <th>PhD</th>\n",
       "      <th>Terminal</th>\n",
       "      <th>S.F.Ratio</th>\n",
       "      <th>perc.alumni</th>\n",
       "      <th>Expend</th>\n",
       "      <th>Grad.Rate</th>\n",
       "    </tr>\n",
       "  </thead>\n",
       "  <tbody>\n",
       "    <tr>\n",
       "      <th>538</th>\n",
       "      <td>321</td>\n",
       "      <td>318</td>\n",
       "      <td>172</td>\n",
       "      <td>11</td>\n",
       "      <td>27</td>\n",
       "      <td>620</td>\n",
       "      <td>280</td>\n",
       "      <td>7536</td>\n",
       "      <td>3736</td>\n",
       "      <td>430</td>\n",
       "      <td>1651</td>\n",
       "      <td>44</td>\n",
       "      <td>77</td>\n",
       "      <td>13.0</td>\n",
       "      <td>12</td>\n",
       "      <td>5309</td>\n",
       "      <td>36</td>\n",
       "    </tr>\n",
       "    <tr>\n",
       "      <th>259</th>\n",
       "      <td>699</td>\n",
       "      <td>565</td>\n",
       "      <td>176</td>\n",
       "      <td>36</td>\n",
       "      <td>64</td>\n",
       "      <td>710</td>\n",
       "      <td>399</td>\n",
       "      <td>13960</td>\n",
       "      <td>6040</td>\n",
       "      <td>450</td>\n",
       "      <td>690</td>\n",
       "      <td>82</td>\n",
       "      <td>88</td>\n",
       "      <td>14.4</td>\n",
       "      <td>34</td>\n",
       "      <td>12434</td>\n",
       "      <td>72</td>\n",
       "    </tr>\n",
       "    <tr>\n",
       "      <th>227</th>\n",
       "      <td>1886</td>\n",
       "      <td>1524</td>\n",
       "      <td>526</td>\n",
       "      <td>31</td>\n",
       "      <td>67</td>\n",
       "      <td>2523</td>\n",
       "      <td>296</td>\n",
       "      <td>13000</td>\n",
       "      <td>4450</td>\n",
       "      <td>600</td>\n",
       "      <td>2400</td>\n",
       "      <td>78</td>\n",
       "      <td>90</td>\n",
       "      <td>14.7</td>\n",
       "      <td>32</td>\n",
       "      <td>9553</td>\n",
       "      <td>69</td>\n",
       "    </tr>\n",
       "    <tr>\n",
       "      <th>219</th>\n",
       "      <td>7875</td>\n",
       "      <td>5062</td>\n",
       "      <td>1492</td>\n",
       "      <td>38</td>\n",
       "      <td>71</td>\n",
       "      <td>5471</td>\n",
       "      <td>1470</td>\n",
       "      <td>17450</td>\n",
       "      <td>6328</td>\n",
       "      <td>700</td>\n",
       "      <td>950</td>\n",
       "      <td>92</td>\n",
       "      <td>93</td>\n",
       "      <td>7.6</td>\n",
       "      <td>15</td>\n",
       "      <td>14745</td>\n",
       "      <td>72</td>\n",
       "    </tr>\n",
       "    <tr>\n",
       "      <th>326</th>\n",
       "      <td>4076</td>\n",
       "      <td>3137</td>\n",
       "      <td>738</td>\n",
       "      <td>25</td>\n",
       "      <td>54</td>\n",
       "      <td>3010</td>\n",
       "      <td>184</td>\n",
       "      <td>12990</td>\n",
       "      <td>6300</td>\n",
       "      <td>600</td>\n",
       "      <td>900</td>\n",
       "      <td>86</td>\n",
       "      <td>88</td>\n",
       "      <td>14.7</td>\n",
       "      <td>27</td>\n",
       "      <td>9448</td>\n",
       "      <td>80</td>\n",
       "    </tr>\n",
       "  </tbody>\n",
       "</table>\n",
       "</div>"
      ],
      "text/plain": [
       "     Apps  Accept  Enroll  Top10perc  Top25perc  F.Undergrad  P.Undergrad  \\\n",
       "538   321     318     172         11         27          620          280   \n",
       "259   699     565     176         36         64          710          399   \n",
       "227  1886    1524     526         31         67         2523          296   \n",
       "219  7875    5062    1492         38         71         5471         1470   \n",
       "326  4076    3137     738         25         54         3010          184   \n",
       "\n",
       "     Outstate  Room.Board  Books  Personal  PhD  Terminal  S.F.Ratio  \\\n",
       "538      7536        3736    430      1651   44        77       13.0   \n",
       "259     13960        6040    450       690   82        88       14.4   \n",
       "227     13000        4450    600      2400   78        90       14.7   \n",
       "219     17450        6328    700       950   92        93        7.6   \n",
       "326     12990        6300    600       900   86        88       14.7   \n",
       "\n",
       "     perc.alumni  Expend  Grad.Rate  \n",
       "538           12    5309         36  \n",
       "259           34   12434         72  \n",
       "227           32    9553         69  \n",
       "219           15   14745         72  \n",
       "326           27    9448         80  "
      ]
     },
     "execution_count": 61,
     "metadata": {},
     "output_type": "execute_result"
    }
   ],
   "source": [
    "X_train.head()"
   ]
  },
  {
   "cell_type": "code",
   "execution_count": 62,
   "metadata": {
    "id": "NVKGDTvLoKKe"
   },
   "outputs": [],
   "source": [
    "from sklearn.cluster import KMeans"
   ]
  },
  {
   "cell_type": "code",
   "execution_count": 63,
   "metadata": {
    "id": "qW7EWDtJoUte"
   },
   "outputs": [
    {
     "name": "stderr",
     "output_type": "stream",
     "text": [
      "/opt/homebrew/Caskroom/miniforge/base/envs/ml-env/lib/python3.10/site-packages/sklearn/cluster/_kmeans.py:870: FutureWarning: The default value of `n_init` will change from 10 to 'auto' in 1.4. Set the value of `n_init` explicitly to suppress the warning\n",
      "  warnings.warn(\n"
     ]
    }
   ],
   "source": [
    "kmeans = KMeans(n_clusters=2).fit(X_train)"
   ]
  },
  {
   "cell_type": "markdown",
   "metadata": {
    "id": "KUl37dgR_GZy"
   },
   "source": [
    "## Evaludate on Validation Set"
   ]
  },
  {
   "cell_type": "code",
   "execution_count": 64,
   "metadata": {
    "id": "RDVxwuGn6Qsv"
   },
   "outputs": [],
   "source": [
    "y_pred_kms = kmeans.predict(X_vali)"
   ]
  },
  {
   "cell_type": "code",
   "execution_count": 65,
   "metadata": {
    "colab": {
     "base_uri": "https://localhost:8080/"
    },
    "id": "VynPwgVU_jmw",
    "outputId": "a0b693d0-416b-472a-ceda-fd6b1e0ef34d"
   },
   "outputs": [
    {
     "data": {
      "text/plain": [
       "(110,)"
      ]
     },
     "execution_count": 65,
     "metadata": {},
     "output_type": "execute_result"
    }
   ],
   "source": [
    "y_pred_kms.shape"
   ]
  },
  {
   "cell_type": "code",
   "execution_count": 66,
   "metadata": {
    "colab": {
     "base_uri": "https://localhost:8080/"
    },
    "id": "lk8s3HHO_cT_",
    "outputId": "ef26b6cc-2d89-477b-a6d3-3c449575e97b"
   },
   "outputs": [
    {
     "name": "stdout",
     "output_type": "stream",
     "text": [
      "F1 score is : 0.564516129032258\n"
     ]
    }
   ],
   "source": [
    "print('F1 score is :', f1_score(y_vali, y_pred_kms))"
   ]
  },
  {
   "cell_type": "code",
   "execution_count": 67,
   "metadata": {
    "colab": {
     "base_uri": "https://localhost:8080/"
    },
    "id": "el6IyawW_y9_",
    "outputId": "494b195e-ba2a-465b-c07e-f352174f3074"
   },
   "outputs": [
    {
     "name": "stdout",
     "output_type": "stream",
     "text": [
      "              precision    recall  f1-score   support\n",
      "\n",
      "           0       0.28      1.00      0.44        21\n",
      "           1       1.00      0.39      0.56        89\n",
      "\n",
      "    accuracy                           0.51       110\n",
      "   macro avg       0.64      0.70      0.50       110\n",
      "weighted avg       0.86      0.51      0.54       110\n",
      "\n"
     ]
    }
   ],
   "source": [
    "print(classification_report(y_vali, y_pred_kms))"
   ]
  },
  {
   "cell_type": "markdown",
   "metadata": {
    "id": "rg_pO0OYUBxX"
   },
   "source": [
    "The performance is not good"
   ]
  },
  {
   "cell_type": "markdown",
   "metadata": {
    "id": "ZkitU8LVVyOM"
   },
   "source": [
    "### Try feature scaling"
   ]
  },
  {
   "cell_type": "code",
   "execution_count": 68,
   "metadata": {
    "id": "wZwqTj1g_60X"
   },
   "outputs": [],
   "source": [
    "from sklearn.preprocessing import MinMaxScaler"
   ]
  },
  {
   "cell_type": "code",
   "execution_count": 69,
   "metadata": {
    "id": "sRQBgjjpUGDK"
   },
   "outputs": [],
   "source": [
    "scaler = MinMaxScaler()\n",
    "scaler.fit(X)\n",
    "X_scaled = scaler.transform(X)"
   ]
  },
  {
   "cell_type": "code",
   "execution_count": 70,
   "metadata": {
    "id": "JqIVM8UMWC2G"
   },
   "outputs": [],
   "source": [
    "X_scaled = pd.DataFrame(data=X_scaled,columns=X.columns )"
   ]
  },
  {
   "cell_type": "code",
   "execution_count": 71,
   "metadata": {
    "colab": {
     "base_uri": "https://localhost:8080/",
     "height": 487
    },
    "id": "AL9Fr2AlWdXj",
    "outputId": "248596e5-0720-44cc-e32d-c685d028dc6e"
   },
   "outputs": [
    {
     "data": {
      "text/html": [
       "<div>\n",
       "<style scoped>\n",
       "    .dataframe tbody tr th:only-of-type {\n",
       "        vertical-align: middle;\n",
       "    }\n",
       "\n",
       "    .dataframe tbody tr th {\n",
       "        vertical-align: top;\n",
       "    }\n",
       "\n",
       "    .dataframe thead th {\n",
       "        text-align: right;\n",
       "    }\n",
       "</style>\n",
       "<table border=\"1\" class=\"dataframe\">\n",
       "  <thead>\n",
       "    <tr style=\"text-align: right;\">\n",
       "      <th></th>\n",
       "      <th>Apps</th>\n",
       "      <th>Accept</th>\n",
       "      <th>Enroll</th>\n",
       "      <th>Top10perc</th>\n",
       "      <th>Top25perc</th>\n",
       "      <th>F.Undergrad</th>\n",
       "      <th>P.Undergrad</th>\n",
       "      <th>Outstate</th>\n",
       "      <th>Room.Board</th>\n",
       "      <th>Books</th>\n",
       "      <th>Personal</th>\n",
       "      <th>PhD</th>\n",
       "      <th>Terminal</th>\n",
       "      <th>S.F.Ratio</th>\n",
       "      <th>perc.alumni</th>\n",
       "      <th>Expend</th>\n",
       "      <th>Grad.Rate</th>\n",
       "    </tr>\n",
       "  </thead>\n",
       "  <tbody>\n",
       "    <tr>\n",
       "      <th>0</th>\n",
       "      <td>0.109790</td>\n",
       "      <td>0.161380</td>\n",
       "      <td>0.267030</td>\n",
       "      <td>0.234043</td>\n",
       "      <td>0.472527</td>\n",
       "      <td>0.241853</td>\n",
       "      <td>0.149428</td>\n",
       "      <td>0.254184</td>\n",
       "      <td>0.239596</td>\n",
       "      <td>0.391593</td>\n",
       "      <td>0.684211</td>\n",
       "      <td>0.645161</td>\n",
       "      <td>0.710526</td>\n",
       "      <td>0.418231</td>\n",
       "      <td>0.187500</td>\n",
       "      <td>0.170734</td>\n",
       "      <td>0.462963</td>\n",
       "    </tr>\n",
       "    <tr>\n",
       "      <th>1</th>\n",
       "      <td>0.146364</td>\n",
       "      <td>0.257652</td>\n",
       "      <td>0.185675</td>\n",
       "      <td>0.159574</td>\n",
       "      <td>0.219780</td>\n",
       "      <td>0.224062</td>\n",
       "      <td>0.341790</td>\n",
       "      <td>0.507322</td>\n",
       "      <td>0.736129</td>\n",
       "      <td>0.723451</td>\n",
       "      <td>0.438596</td>\n",
       "      <td>0.204301</td>\n",
       "      <td>0.078947</td>\n",
       "      <td>0.260054</td>\n",
       "      <td>0.250000</td>\n",
       "      <td>0.325125</td>\n",
       "      <td>0.425926</td>\n",
       "    </tr>\n",
       "    <tr>\n",
       "      <th>2</th>\n",
       "      <td>0.093659</td>\n",
       "      <td>0.142599</td>\n",
       "      <td>0.117166</td>\n",
       "      <td>0.223404</td>\n",
       "      <td>0.450549</td>\n",
       "      <td>0.079003</td>\n",
       "      <td>0.027321</td>\n",
       "      <td>0.453452</td>\n",
       "      <td>0.310530</td>\n",
       "      <td>0.336283</td>\n",
       "      <td>0.321053</td>\n",
       "      <td>0.462366</td>\n",
       "      <td>0.552632</td>\n",
       "      <td>0.278820</td>\n",
       "      <td>0.468750</td>\n",
       "      <td>0.245759</td>\n",
       "      <td>0.407407</td>\n",
       "    </tr>\n",
       "    <tr>\n",
       "      <th>3</th>\n",
       "      <td>0.023363</td>\n",
       "      <td>0.038536</td>\n",
       "      <td>0.039704</td>\n",
       "      <td>0.627660</td>\n",
       "      <td>0.879121</td>\n",
       "      <td>0.032676</td>\n",
       "      <td>0.017285</td>\n",
       "      <td>0.542887</td>\n",
       "      <td>0.578499</td>\n",
       "      <td>0.391593</td>\n",
       "      <td>0.219298</td>\n",
       "      <td>0.881720</td>\n",
       "      <td>0.960526</td>\n",
       "      <td>0.139410</td>\n",
       "      <td>0.578125</td>\n",
       "      <td>0.701094</td>\n",
       "      <td>0.453704</td>\n",
       "    </tr>\n",
       "    <tr>\n",
       "      <th>4</th>\n",
       "      <td>0.007788</td>\n",
       "      <td>0.010295</td>\n",
       "      <td>0.007785</td>\n",
       "      <td>0.159574</td>\n",
       "      <td>0.384615</td>\n",
       "      <td>0.009688</td>\n",
       "      <td>0.241985</td>\n",
       "      <td>0.260460</td>\n",
       "      <td>0.368852</td>\n",
       "      <td>0.778761</td>\n",
       "      <td>0.438596</td>\n",
       "      <td>0.709677</td>\n",
       "      <td>0.631579</td>\n",
       "      <td>0.252011</td>\n",
       "      <td>0.031250</td>\n",
       "      <td>0.342619</td>\n",
       "      <td>0.046296</td>\n",
       "    </tr>\n",
       "    <tr>\n",
       "      <th>...</th>\n",
       "      <td>...</td>\n",
       "      <td>...</td>\n",
       "      <td>...</td>\n",
       "      <td>...</td>\n",
       "      <td>...</td>\n",
       "      <td>...</td>\n",
       "      <td>...</td>\n",
       "      <td>...</td>\n",
       "      <td>...</td>\n",
       "      <td>...</td>\n",
       "      <td>...</td>\n",
       "      <td>...</td>\n",
       "      <td>...</td>\n",
       "      <td>...</td>\n",
       "      <td>...</td>\n",
       "      <td>...</td>\n",
       "      <td>...</td>\n",
       "    </tr>\n",
       "    <tr>\n",
       "      <th>657</th>\n",
       "      <td>0.186831</td>\n",
       "      <td>0.311909</td>\n",
       "      <td>0.251849</td>\n",
       "      <td>0.510638</td>\n",
       "      <td>0.846154</td>\n",
       "      <td>0.234543</td>\n",
       "      <td>0.023697</td>\n",
       "      <td>0.695816</td>\n",
       "      <td>0.565889</td>\n",
       "      <td>0.480088</td>\n",
       "      <td>0.168421</td>\n",
       "      <td>0.881720</td>\n",
       "      <td>0.921053</td>\n",
       "      <td>0.340483</td>\n",
       "      <td>0.531250</td>\n",
       "      <td>0.336064</td>\n",
       "      <td>0.666667</td>\n",
       "    </tr>\n",
       "    <tr>\n",
       "      <th>658</th>\n",
       "      <td>0.147128</td>\n",
       "      <td>0.200751</td>\n",
       "      <td>0.197742</td>\n",
       "      <td>0.031915</td>\n",
       "      <td>0.186813</td>\n",
       "      <td>0.259820</td>\n",
       "      <td>0.565375</td>\n",
       "      <td>0.220554</td>\n",
       "      <td>0.334174</td>\n",
       "      <td>0.446903</td>\n",
       "      <td>0.333333</td>\n",
       "      <td>0.537634</td>\n",
       "      <td>0.473684</td>\n",
       "      <td>0.495979</td>\n",
       "      <td>0.218750</td>\n",
       "      <td>0.056823</td>\n",
       "      <td>0.277778</td>\n",
       "    </tr>\n",
       "    <tr>\n",
       "      <th>659</th>\n",
       "      <td>0.130580</td>\n",
       "      <td>0.241096</td>\n",
       "      <td>0.256909</td>\n",
       "      <td>0.244681</td>\n",
       "      <td>0.417582</td>\n",
       "      <td>0.238682</td>\n",
       "      <td>0.308336</td>\n",
       "      <td>0.467573</td>\n",
       "      <td>0.501261</td>\n",
       "      <td>0.557522</td>\n",
       "      <td>0.350877</td>\n",
       "      <td>0.677419</td>\n",
       "      <td>0.671053</td>\n",
       "      <td>0.289544</td>\n",
       "      <td>0.484375</td>\n",
       "      <td>0.265867</td>\n",
       "      <td>0.675926</td>\n",
       "    </tr>\n",
       "    <tr>\n",
       "      <th>660</th>\n",
       "      <td>0.140175</td>\n",
       "      <td>0.256400</td>\n",
       "      <td>0.256909</td>\n",
       "      <td>0.351064</td>\n",
       "      <td>0.571429</td>\n",
       "      <td>0.233750</td>\n",
       "      <td>0.045999</td>\n",
       "      <td>0.225941</td>\n",
       "      <td>0.381463</td>\n",
       "      <td>0.576327</td>\n",
       "      <td>0.186316</td>\n",
       "      <td>0.612903</td>\n",
       "      <td>0.671053</td>\n",
       "      <td>0.319035</td>\n",
       "      <td>0.312500</td>\n",
       "      <td>0.227512</td>\n",
       "      <td>0.361111</td>\n",
       "    </tr>\n",
       "    <tr>\n",
       "      <th>661</th>\n",
       "      <td>0.202197</td>\n",
       "      <td>0.248052</td>\n",
       "      <td>0.255352</td>\n",
       "      <td>0.287234</td>\n",
       "      <td>0.593407</td>\n",
       "      <td>0.250925</td>\n",
       "      <td>0.480903</td>\n",
       "      <td>0.126046</td>\n",
       "      <td>0.280580</td>\n",
       "      <td>0.446903</td>\n",
       "      <td>0.350877</td>\n",
       "      <td>0.698925</td>\n",
       "      <td>0.671053</td>\n",
       "      <td>0.418231</td>\n",
       "      <td>0.437500</td>\n",
       "      <td>0.058594</td>\n",
       "      <td>0.824074</td>\n",
       "    </tr>\n",
       "  </tbody>\n",
       "</table>\n",
       "<p>662 rows × 17 columns</p>\n",
       "</div>"
      ],
      "text/plain": [
       "         Apps    Accept    Enroll  Top10perc  Top25perc  F.Undergrad  \\\n",
       "0    0.109790  0.161380  0.267030   0.234043   0.472527     0.241853   \n",
       "1    0.146364  0.257652  0.185675   0.159574   0.219780     0.224062   \n",
       "2    0.093659  0.142599  0.117166   0.223404   0.450549     0.079003   \n",
       "3    0.023363  0.038536  0.039704   0.627660   0.879121     0.032676   \n",
       "4    0.007788  0.010295  0.007785   0.159574   0.384615     0.009688   \n",
       "..        ...       ...       ...        ...        ...          ...   \n",
       "657  0.186831  0.311909  0.251849   0.510638   0.846154     0.234543   \n",
       "658  0.147128  0.200751  0.197742   0.031915   0.186813     0.259820   \n",
       "659  0.130580  0.241096  0.256909   0.244681   0.417582     0.238682   \n",
       "660  0.140175  0.256400  0.256909   0.351064   0.571429     0.233750   \n",
       "661  0.202197  0.248052  0.255352   0.287234   0.593407     0.250925   \n",
       "\n",
       "     P.Undergrad  Outstate  Room.Board     Books  Personal       PhD  \\\n",
       "0       0.149428  0.254184    0.239596  0.391593  0.684211  0.645161   \n",
       "1       0.341790  0.507322    0.736129  0.723451  0.438596  0.204301   \n",
       "2       0.027321  0.453452    0.310530  0.336283  0.321053  0.462366   \n",
       "3       0.017285  0.542887    0.578499  0.391593  0.219298  0.881720   \n",
       "4       0.241985  0.260460    0.368852  0.778761  0.438596  0.709677   \n",
       "..           ...       ...         ...       ...       ...       ...   \n",
       "657     0.023697  0.695816    0.565889  0.480088  0.168421  0.881720   \n",
       "658     0.565375  0.220554    0.334174  0.446903  0.333333  0.537634   \n",
       "659     0.308336  0.467573    0.501261  0.557522  0.350877  0.677419   \n",
       "660     0.045999  0.225941    0.381463  0.576327  0.186316  0.612903   \n",
       "661     0.480903  0.126046    0.280580  0.446903  0.350877  0.698925   \n",
       "\n",
       "     Terminal  S.F.Ratio  perc.alumni    Expend  Grad.Rate  \n",
       "0    0.710526   0.418231     0.187500  0.170734   0.462963  \n",
       "1    0.078947   0.260054     0.250000  0.325125   0.425926  \n",
       "2    0.552632   0.278820     0.468750  0.245759   0.407407  \n",
       "3    0.960526   0.139410     0.578125  0.701094   0.453704  \n",
       "4    0.631579   0.252011     0.031250  0.342619   0.046296  \n",
       "..        ...        ...          ...       ...        ...  \n",
       "657  0.921053   0.340483     0.531250  0.336064   0.666667  \n",
       "658  0.473684   0.495979     0.218750  0.056823   0.277778  \n",
       "659  0.671053   0.289544     0.484375  0.265867   0.675926  \n",
       "660  0.671053   0.319035     0.312500  0.227512   0.361111  \n",
       "661  0.671053   0.418231     0.437500  0.058594   0.824074  \n",
       "\n",
       "[662 rows x 17 columns]"
      ]
     },
     "execution_count": 71,
     "metadata": {},
     "output_type": "execute_result"
    }
   ],
   "source": [
    "X_scaled"
   ]
  },
  {
   "cell_type": "markdown",
   "metadata": {
    "id": "dS5OHSHgWmKb"
   },
   "source": [
    "### Split data"
   ]
  },
  {
   "cell_type": "code",
   "execution_count": 72,
   "metadata": {
    "id": "IrUfpxOHWuCz"
   },
   "outputs": [],
   "source": [
    "# Split to Train/Test/Validation test set\n",
    "X_train_scaled, X_test_vali_scaled, y_train_scaled, y_test_vali_scaled = train_test_split(X_scaled, y, test_size=0.33, random_state=42)"
   ]
  },
  {
   "cell_type": "code",
   "execution_count": 73,
   "metadata": {
    "colab": {
     "base_uri": "https://localhost:8080/"
    },
    "id": "B6JPQ--WUcZR",
    "outputId": "4b5e117a-ef9d-4739-8630-2b4c2c52b22f"
   },
   "outputs": [
    {
     "data": {
      "text/plain": [
       "(443, 17)"
      ]
     },
     "execution_count": 73,
     "metadata": {},
     "output_type": "execute_result"
    }
   ],
   "source": [
    "X_train_scaled.shape"
   ]
  },
  {
   "cell_type": "code",
   "execution_count": 74,
   "metadata": {
    "id": "BVYJjYSjX1hE"
   },
   "outputs": [],
   "source": [
    "# Split test into 50:50 ratio\n",
    "X_test_scaled = X_test_vali_scaled[:math.floor(X_test_vali_scaled.shape[0]/2)]\n",
    "X_vali_scaled = X_test_vali_scaled[math.floor(X_test_vali_scaled.shape[0]/2):]"
   ]
  },
  {
   "cell_type": "code",
   "execution_count": 75,
   "metadata": {
    "colab": {
     "base_uri": "https://localhost:8080/"
    },
    "id": "JvHYQUMDYAU9",
    "outputId": "ffaaf95e-9c9a-451c-9022-56d69135892f"
   },
   "outputs": [
    {
     "data": {
      "text/plain": [
       "((109, 17), (110, 17))"
      ]
     },
     "execution_count": 75,
     "metadata": {},
     "output_type": "execute_result"
    }
   ],
   "source": [
    "X_test_scaled.shape, X_vali_scaled.shape"
   ]
  },
  {
   "cell_type": "code",
   "execution_count": 76,
   "metadata": {
    "id": "Cap18LAwYFdO"
   },
   "outputs": [],
   "source": [
    "y_test_scaled = y_test_vali_scaled[:math.floor(y_test_vali_scaled.shape[0]/2)]\n",
    "y_vali_scaled = y_test_vali_scaled[math.floor(y_test_vali_scaled.shape[0]/2):]"
   ]
  },
  {
   "cell_type": "code",
   "execution_count": 77,
   "metadata": {
    "colab": {
     "base_uri": "https://localhost:8080/"
    },
    "id": "2mb_LokTYFvW",
    "outputId": "a99d5c89-1253-4703-8165-81ff7e806c80"
   },
   "outputs": [
    {
     "data": {
      "text/plain": [
       "((109,), (110,))"
      ]
     },
     "execution_count": 77,
     "metadata": {},
     "output_type": "execute_result"
    }
   ],
   "source": [
    "y_test_scaled.shape, y_vali_scaled.shape"
   ]
  },
  {
   "cell_type": "markdown",
   "metadata": {
    "id": "eFAukOmmUuV3"
   },
   "source": [
    "### Evaluate after feature scaling"
   ]
  },
  {
   "cell_type": "code",
   "execution_count": 78,
   "metadata": {
    "id": "RNH3DL2KUmwM"
   },
   "outputs": [
    {
     "name": "stderr",
     "output_type": "stream",
     "text": [
      "/opt/homebrew/Caskroom/miniforge/base/envs/ml-env/lib/python3.10/site-packages/sklearn/cluster/_kmeans.py:870: FutureWarning: The default value of `n_init` will change from 10 to 'auto' in 1.4. Set the value of `n_init` explicitly to suppress the warning\n",
      "  warnings.warn(\n"
     ]
    }
   ],
   "source": [
    "kmeans = KMeans(n_clusters=2).fit(X_train_scaled)"
   ]
  },
  {
   "cell_type": "code",
   "execution_count": 79,
   "metadata": {
    "id": "ZDqn5tTsUt9H"
   },
   "outputs": [],
   "source": [
    "y_pred_kms_scaled = kmeans.predict(X_vali_scaled)"
   ]
  },
  {
   "cell_type": "code",
   "execution_count": 80,
   "metadata": {
    "colab": {
     "base_uri": "https://localhost:8080/"
    },
    "id": "cCOWM9k_U5rH",
    "outputId": "ba258528-952b-484a-fb64-6f6416bf7346"
   },
   "outputs": [
    {
     "name": "stdout",
     "output_type": "stream",
     "text": [
      "F1 score is : 0.5954198473282443\n"
     ]
    }
   ],
   "source": [
    "print('F1 score is :', f1_score(y_vali_scaled, y_pred_kms_scaled))"
   ]
  },
  {
   "cell_type": "code",
   "execution_count": 54,
   "metadata": {
    "colab": {
     "base_uri": "https://localhost:8080/"
    },
    "id": "Ywx6rEHAVAF2",
    "outputId": "3f9f6804-7b28-4771-952d-600e2f620d9a"
   },
   "outputs": [
    {
     "name": "stdout",
     "output_type": "stream",
     "text": [
      "              precision    recall  f1-score   support\n",
      "\n",
      "           0       0.26      0.86      0.40        21\n",
      "           1       0.93      0.44      0.60        89\n",
      "\n",
      "    accuracy                           0.52       110\n",
      "   macro avg       0.60      0.65      0.50       110\n",
      "weighted avg       0.80      0.52      0.56       110\n",
      "\n"
     ]
    }
   ],
   "source": [
    "print(classification_report(y_vali_scaled, y_pred_kms_scaled))"
   ]
  },
  {
   "cell_type": "code",
   "execution_count": 90,
   "metadata": {},
   "outputs": [],
   "source": [
    "cm_kms = confusion_matrix(y_vali_scaled, y_pred_kms_scaled)"
   ]
  },
  {
   "cell_type": "code",
   "execution_count": 92,
   "metadata": {},
   "outputs": [
    {
     "data": {
      "text/plain": [
       "<sklearn.metrics._plot.confusion_matrix.ConfusionMatrixDisplay at 0x13ea05150>"
      ]
     },
     "execution_count": 92,
     "metadata": {},
     "output_type": "execute_result"
    },
    {
     "data": {
      "image/png": "[encoded data removed]",
      "text/plain": [
       "<Figure size 640x480 with 2 Axes>"
      ]
     },
     "metadata": {},
     "output_type": "display_data"
    }
   ],
   "source": [
    "disp_kms = ConfusionMatrixDisplay(confusion_matrix=cm_kms)\n",
    "disp_kms.plot()"
   ]
  },
  {
   "cell_type": "markdown",
   "metadata": {
    "id": "Q1vlPIprYutl"
   },
   "source": [
    "### K-means performs worse then Logistic regression"
   ]
  }
 ],
 "metadata": {
  "colab": {
   "provenance": []
  },
  "kernelspec": {
   "display_name": "Python [conda env:ml-env]",
   "language": "python",
   "name": "conda-env-ml-env-py"
  },
  "language_info": {
   "codemirror_mode": {
    "name": "ipython",
    "version": 3
   },
   "file_extension": ".py",
   "mimetype": "text/x-python",
   "name": "python",
   "nbconvert_exporter": "python",
   "pygments_lexer": "ipython3",
   "version": "3.10.9"
  }
 },
 "nbformat": 4,
 "nbformat_minor": 1
}
